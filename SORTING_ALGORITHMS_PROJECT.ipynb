{
  "cells": [
    {
      "cell_type": "markdown",
      "metadata": {
        "id": "PMUUPyrHVM8n"
      },
      "source": [
        "# Sorting Algorithms"
      ]
    },
    {
      "cell_type": "markdown",
      "metadata": {
        "id": "R6M4zajMVULi"
      },
      "source": [
        "# 1. Bubble Sort (basic comparison-based sort)"
      ]
    },
    {
      "cell_type": "markdown",
      "metadata": {
        "id": "FOpqRLYZVY1z"
      },
      "source": [
        "Source : https://www.geeksforgeeks.org/bubble-sort/\n",
        "\n",
        "Bubble Sort is the simplest sorting algorithm that works by repeatedly swapping the adjacent elements if they are in wrong order. \n",
        "\n",
        "**Working**\n",
        "\n",
        "  1. It starts at the beginning of the dataset and compares the first two elements, and if the first element is greater than the second, then it will swap them.\n",
        "  2. It will continue to repeat this process until no more swaps are required.\n",
        "\n",
        "**Performance**\n",
        "\n",
        "Bubble sort has a worst and average case time complexity of O(n*n), n being the number of elements to be sorted. The worst case cocurs when the dataset is sorted in reverse order.\n",
        "When the dataset is already sorted (best-case), the time complexity is only O(n). It is not practical and is very inefficient and hence is rarely used in real world scenarios."
      ]
    },
    {
      "cell_type": "markdown",
      "metadata": {
        "id": "8wanBZQQXvPS"
      },
      "source": [
        "# <font color = \"dark cyan\">Bubble Sort\n",
        "Source : https://www.w3resource.com/php-exercises/searching-and-sorting-algorithm/searching-and-sorting-algorithm-exercise-6.php"
      ]
    },
    {
      "cell_type": "markdown",
      "metadata": {
        "id": "JcEaxW4wYOfO"
      },
      "source": [
        "![title](bubble-sort.png)"
      ]
    },
    {
      "cell_type": "code",
      "execution_count": 1,
      "metadata": {
        "colab": {
          "base_uri": "https://localhost:8080/"
        },
        "id": "Xjc9RZPZYmm6",
        "outputId": "ec661734-87df-4d7e-bdaa-06c2c9707e5c"
      },
      "outputs": [
        {
          "output_type": "stream",
          "name": "stdout",
          "text": [
            "The unsorted list is:  [5, 1, 4, 2, 8]\n",
            "The sorted list is  :  [1, 2, 4, 5, 8]\n"
          ]
        }
      ],
      "source": [
        "#code sourced from https://www.javatpoint.com/bubble-sort-in-python\n",
        "# Creating a bubble sort function  \n",
        "def bubbleSort(list1):  \n",
        "    # Outer loop to traverse the entire list  \n",
        "    for i in range(0,len(list1)-1):  \n",
        "        for j in range(len(list1)-1):  \n",
        "            if(list1[j]>list1[j+1]):  \n",
        "                temp = list1[j]  \n",
        "                list1[j] = list1[j+1]  \n",
        "                list1[j+1] = temp  \n",
        "  \n",
        "list1 = [5, 1, 4, 2, 8]  \n",
        "print(\"The unsorted list is: \", list1)  \n",
        "# Calling the bubble sort function\n",
        "bubbleSort(list1)\n",
        "print(\"The sorted list is  : \", list1)  "
      ]
    },
    {
      "cell_type": "markdown",
      "metadata": {
        "id": "UQOdevcOZ3Rc"
      },
      "source": [
        "# 2. Merge Sort (efficient comparison-based sort)"
      ]
    },
    {
      "cell_type": "markdown",
      "metadata": {
        "id": "bTnvXfG_aBDL"
      },
      "source": [
        "Source : https://www.geeksforgeeks.org/merge-sort/\n",
        "\n",
        "Merge sort is a recursive divide and conquer algorithm. It recursively divides the input array into two halves, calls itself for the two halves, and then merges the two sorted halves. \n",
        "\n",
        "**Working**\n",
        "  1. It starts by breaking down the array into subarrays until each of these subarrays contains only one element.\n",
        "  2. Repeatedly merges the subarrays to create new sorted subarrays until finally there is only one subarray left, i.e. the sorted array.\n",
        "\n",
        "  **Performance**\n"
      ]
    },
    {
      "cell_type": "markdown",
      "metadata": {
        "id": "sRj5vAzfhkGI"
      },
      "source": [
        "Time-complexity of Merge Sort in best, worst and average case is O(nlogn), n being the number of elements to be sorted in the dataset. As its time complexity is similar in all 3 cases, that makes it a good choice for predictable running behaviour."
      ]
    },
    {
      "cell_type": "markdown",
      "metadata": {
        "id": "cWfFecDriJcO"
      },
      "source": [
        "# <font color = \"dark cyan\">Merge Sort\n",
        "Source : https://www.w3resource.com/python-exercises/data-structures-and-algorithms/python-search-and-sorting-exercise-8.php"
      ]
    },
    {
      "cell_type": "markdown",
      "metadata": {
        "id": "V788lMYriaR2"
      },
      "source": [
        "![title](merge_sort.png)"
      ]
    },
    {
      "cell_type": "code",
      "execution_count": 2,
      "metadata": {
        "colab": {
          "base_uri": "https://localhost:8080/"
        },
        "id": "PqQANwmAigyv",
        "outputId": "9f695692-f504-4aa7-e5a4-9198b3935908"
      },
      "outputs": [
        {
          "output_type": "stream",
          "name": "stdout",
          "text": [
            "Sorted list  [17, 20, 26, 31, 44, 54, 55, 77, 93]\n"
          ]
        }
      ],
      "source": [
        "# code sourced from http://interactivepython.org/runestone/static/pythonds/SortSearch/TheMergeSort.html\n",
        "def mergeSort(alist):\n",
        "    if len(alist)>1:\n",
        "        mid = len(alist)//2\n",
        "        lefthalf = alist[:mid]\n",
        "        righthalf = alist[mid:]\n",
        "\n",
        "        mergeSort(lefthalf)\n",
        "        mergeSort(righthalf)\n",
        "\n",
        "        i=0\n",
        "        j=0\n",
        "        k=0\n",
        "        while i < len(lefthalf) and j < len(righthalf):\n",
        "            if lefthalf[i] < righthalf[j]:\n",
        "                alist[k]=lefthalf[i]\n",
        "                i=i+1\n",
        "            else:\n",
        "                alist[k]=righthalf[j]\n",
        "                j=j+1\n",
        "            k=k+1\n",
        "\n",
        "        while i < len(lefthalf):\n",
        "            alist[k]=lefthalf[i]\n",
        "            i=i+1\n",
        "            k=k+1\n",
        "\n",
        "        while j < len(righthalf):\n",
        "            alist[k]=righthalf[j]\n",
        "            j=j+1\n",
        "            k=k+1\n",
        "\n",
        "alist = [54,26,93,17,77,31,44,55,20]\n",
        "mergeSort(alist)\n",
        "print(\"Sorted list \", alist)"
      ]
    },
    {
      "cell_type": "markdown",
      "metadata": {
        "id": "ripEm7YllKuX"
      },
      "source": [
        "# 3. Quick Sort"
      ]
    },
    {
      "cell_type": "markdown",
      "metadata": {
        "id": "rg7oVc_olUiu"
      },
      "source": [
        "Source : https://www.geeksforgeeks.org/quick-sort/\n",
        "\n",
        "It is a recursive divide and conquer algorithm which is used very commonly for sorting because of its efficiency. \n",
        "\n",
        "**Working**\n",
        "  1. Pivot selection : Different ways to pick an element from the array called \"pivot\".\n",
        "  2. Partitioning : Given an array and an element x of array as pivot, put x at its correct position in sorted array and put all smaller elements (smaller than x) before x, and put all greater elements (greater than x) after x. \n",
        "  3. Recursion : Recursively apply both the above steps to both the subarrays.\n",
        "\n",
        "**Performance**\n",
        "Time complexity of Quick sort in best case scenario is O(nlogn), in worst case is O(n*n) and average case is O(nlogn). "
      ]
    },
    {
      "cell_type": "markdown",
      "metadata": {
        "id": "BJy3GdTsoSQj"
      },
      "source": [
        "# <font color = \"dark cyan\">Quick Sort\n",
        "![title](quicksort.png)"
      ]
    },
    {
      "cell_type": "code",
      "execution_count": 3,
      "metadata": {
        "colab": {
          "base_uri": "https://localhost:8080/"
        },
        "id": "Xo9tWm3Bn-LU",
        "outputId": "d96147e9-648e-4627-a84a-9abce22fe97e"
      },
      "outputs": [
        {
          "output_type": "stream",
          "name": "stdout",
          "text": [
            "Sorted data:  [0, 1, 2, 6, 7, 8, 9]\n"
          ]
        }
      ],
      "source": [
        "def quickSort(alist):\n",
        "   quickSortHelper(alist,0,len(alist)-1)\n",
        "\n",
        "def quickSortHelper(alist,first,last):\n",
        "   if first<last:\n",
        "\n",
        "       splitpoint = partition(alist,first,last)\n",
        "\n",
        "       quickSortHelper(alist,first,splitpoint-1)\n",
        "       quickSortHelper(alist,splitpoint+1,last)\n",
        "\n",
        "\n",
        "def partition(alist,first,last):\n",
        "   pivotvalue = alist[first]\n",
        "\n",
        "   leftmark = first+1\n",
        "   rightmark = last\n",
        "\n",
        "   done = False\n",
        "   while not done:\n",
        "\n",
        "       while leftmark <= rightmark and alist[leftmark] <= pivotvalue:\n",
        "           leftmark = leftmark + 1\n",
        "\n",
        "       while alist[rightmark] >= pivotvalue and rightmark >= leftmark:\n",
        "           rightmark = rightmark -1\n",
        "\n",
        "       if rightmark < leftmark:\n",
        "           done = True\n",
        "       else:\n",
        "           temp = alist[leftmark]\n",
        "           alist[leftmark] = alist[rightmark]\n",
        "           alist[rightmark] = temp\n",
        "\n",
        "   temp = alist[first]\n",
        "   alist[first] = alist[rightmark]\n",
        "   alist[rightmark] = temp\n",
        "\n",
        "\n",
        "   return rightmark\n",
        "\n",
        "data = [8, 7, 2, 1, 0, 9, 6]\n",
        "quickSort(data)\n",
        "print(\"Sorted data: \", data)"
      ]
    },
    {
      "cell_type": "markdown",
      "metadata": {
        "id": "Qzd0j5lpN8--"
      },
      "source": [
        "# 4. Counting Sort"
      ]
    },
    {
      "cell_type": "markdown",
      "metadata": {
        "id": "bQFk87ntOAGm"
      },
      "source": [
        "It sorts the elements of an array by counting the number of occurences of each unique element in the array. The count is stored in an auxiliary array and the sorting is done by mapping the count as an index of the auxiliary array.\n",
        "Time complexity is O(n+k) in all three (best, worst and average) scenarios."
      ]
    },
    {
      "cell_type": "markdown",
      "metadata": {
        "id": "SE8tr5HCVsG0"
      },
      "source": [
        "# <font color = \"dark cyan\">Counting Sort\n",
        "![title](Countingsort.webp)"
      ]
    },
    {
      "cell_type": "code",
      "execution_count": 4,
      "metadata": {
        "id": "Vr2rLI0WVsG1",
        "outputId": "4be72820-912e-45e7-d029-366e562c1ba8",
        "colab": {
          "base_uri": "https://localhost:8080/"
        }
      },
      "outputs": [
        {
          "output_type": "stream",
          "name": "stdout",
          "text": [
            "Sorted Array in Ascending Order:  [1, 2, 2, 3, 3, 4, 8, 19]\n"
          ]
        }
      ],
      "source": [
        "#code sourced from https://www.programiz.com/dsa/counting-sort\n",
        "import sys\n",
        "def countSort(array):\n",
        "    size = len(array)\n",
        "    max = -sys.maxsize - 1\n",
        "    for i in range(0, size):\n",
        "      if array[i] > max :\n",
        "        max = array[i]\n",
        "    maxval = max + 1\n",
        "    count = [0]*maxval\n",
        "    for a in array:\n",
        "        count[a] += 1             # count occurences\n",
        "    i = 0\n",
        "    for a in range(maxval):            # emit\n",
        "        for c in range(count[a]): # - emit 'count[a]' copies of 'a'\n",
        "            array[i] = a\n",
        "            i += 1\n",
        "    \n",
        "\n",
        "data = [4, 2, 2, 8, 3, 3, 1,19]\n",
        "countSort(data)\n",
        "print(\"Sorted Array in Ascending Order: \", data)"
      ]
    },
    {
      "cell_type": "markdown",
      "metadata": {
        "id": "JKdtK5VwVsG2"
      },
      "source": [
        "# 5. Insertion Sort"
      ]
    },
    {
      "cell_type": "markdown",
      "metadata": {
        "id": "4nBPzY0gVsG2"
      },
      "source": [
        "Source : https://www.programiz.com/dsa/insertion-sort\n",
        "\n",
        "Insertion sort is a simple sorting algorithm that works similar to the way you sort playing cards in your hands. The array is virtually split into a sorted and an unsorted part. Values from the unsorted part are picked and placed at the correct position in the sorted part.\n",
        "\n",
        "**Working**\n",
        "  1. The first element in the array is assumed to be sorted. Take the second element and store it separately in key variable.\n",
        "  2. Now compare these two elements and swap them accordingly. Now take the third element. Compare it with elements on the left of it. Place it just behind the element smaller than it, else place it in the front.\n",
        "  3. Repeat this process to place every element at its correct position.\n",
        "\n",
        "**Performance**\n",
        "\n",
        "Its time complexity is O(n) for the best case whereas it is O(n*n) for worst and average case scenario. "
      ]
    },
    {
      "cell_type": "markdown",
      "metadata": {
        "id": "QBuGrkijYK0K"
      },
      "source": [
        "# <font color = \"dark cyan\">Insertion Sort"
      ]
    },
    {
      "cell_type": "markdown",
      "metadata": {
        "id": "8BWwRpL8WlhY"
      },
      "source": [
        "Source : https://media.geeksforgeeks.org/wp-content/uploads/insertionsort.png\n",
        "\n",
        "![title](insertionsort.png)"
      ]
    },
    {
      "cell_type": "code",
      "execution_count": 5,
      "metadata": {
        "colab": {
          "base_uri": "https://localhost:8080/"
        },
        "id": "zBPbH5bUWwJ_",
        "outputId": "c5ecaf8e-7868-4085-dc7e-fbab5202d99a"
      },
      "outputs": [
        {
          "output_type": "stream",
          "name": "stdout",
          "text": [
            "Sorted Array in Ascending Order:  [1, 2, 3, 4, 5, 6, 10, 12]\n"
          ]
        }
      ],
      "source": [
        "#code sourced from https://www.programiz.com/dsa/insertion-sort\n",
        "def insertionSort(array):\n",
        "    for step in range(1, len(array)):\n",
        "        key = array[step]\n",
        "        j = step - 1\n",
        "        # Compare key with each element on the left of it until an element smaller than it is found\n",
        "        # For descending order, change key<array[j] to key>array[j].        \n",
        "        while j >= 0 and key < array[j]:\n",
        "            array[j + 1] = array[j]\n",
        "            j = j - 1\n",
        "        # Place key at after the element just smaller than it.\n",
        "        array[j + 1] = key\n",
        "\n",
        "\n",
        "data = [4, 3, 2, 10, 12, 1, 5, 6]\n",
        "insertionSort(data)\n",
        "print('Sorted Array in Ascending Order: ', data)"
      ]
    },
    {
      "cell_type": "markdown",
      "metadata": {
        "id": "pWwYEjRQYBOy"
      },
      "source": [
        "# <font color = \"dark green\">Implementation"
      ]
    },
    {
      "cell_type": "markdown",
      "metadata": {
        "id": "7LnVF1FjYk_C"
      },
      "source": [
        "So far, we have defined 5 sorting algorithms, namely:\n",
        "1. Bubble Sort\n",
        "2. Merge Sort\n",
        "3. Quick Sort\n",
        "4. Counting Sort\n",
        "5. Insertion Sort\n",
        "\n",
        "Now we will create a array of random numbers using randint function in the python library. \n",
        "(https://docs.python.org/2/library/random.html)"
      ]
    },
    {
      "cell_type": "code",
      "execution_count": 6,
      "metadata": {
        "id": "VDJ261ZZZLDO"
      },
      "outputs": [],
      "source": [
        "#code sourced from the aforementioned documentation\n",
        "# Creating an array using randint\n",
        "from random import *\n",
        "# creating a random array, function takes in n numbers\n",
        "def random_array(n):\n",
        "    # create an array variable\n",
        "    array = []\n",
        "    # if n = 5, 0,1,2,3,4\n",
        "    for i in range(0, n, 1):\n",
        "        # add to the array random integers between 0 and 100\n",
        "        array.append(randint(0,100))\n",
        "    return array\n",
        "\n",
        "# assign the random array to alist\n",
        "alist = random_array(100)\n",
        "alist1 = random_array(250)\n",
        "alist2 = random_array(500)\n",
        "alist3 = random_array(750)\n",
        "alist4 = random_array(1000)\n",
        "alist5 = random_array(1500)\n",
        "alist6 = random_array(2000)\n",
        "alist7 = random_array(3000)\n",
        "alist8 = random_array(5000)\n",
        "alist9 = random_array(6000)\n",
        "alist10 = random_array(7500)\n",
        "alist11 = random_array(8500)\n",
        "alist12 = random_array(10000)\n",
        "alist13 = random_array(25000)\n",
        "alist14 = random_array(50000)"
      ]
    },
    {
      "cell_type": "markdown",
      "metadata": {
        "id": "QQpxQlhQaC_e"
      },
      "source": [
        "# <font color = \"dark green\"> Benchmarking Multiple Statistical Runs"
      ]
    },
    {
      "cell_type": "markdown",
      "metadata": {
        "id": "bqRl17xzaSVL"
      },
      "source": [
        "#### 1. Benchmark Bubble Sort"
      ]
    },
    {
      "cell_type": "code",
      "execution_count": null,
      "metadata": {
        "colab": {
          "base_uri": "https://localhost:8080/"
        },
        "id": "x6my05rAay-D",
        "outputId": "a72619d5-e2a7-41f6-e235-1e8c8e38cd0e"
      },
      "outputs": [
        {
          "output_type": "stream",
          "name": "stdout",
          "text": [
            "[0.004, 0.016, 0.046, 0.135, 0.262, 0.551, 1.092, 2.337, 5.879, 10.794, 18.095, 27.724, 40.853, 123.975, 449.177]\n"
          ]
        }
      ],
      "source": [
        "from collections import Counter\n",
        "import time\n",
        "global bubbleSort_avgList\n",
        "bubbleSort_avgList = [] #empty initially\n",
        "runs = 10 #number of runs\n",
        "results = []\n",
        "\n",
        "def run(runs, lst, results, sort_avgList):\n",
        "    for r in range(runs):\n",
        "    # start timer\n",
        "        start_time = time.time()\n",
        "        ######## bubblesort\n",
        "        bubbleSort(lst)\n",
        "        end_time = time.time()\n",
        "        time_elapsed= end_time - start_time\n",
        "        results.append(time_elapsed)\n",
        "    b = sum(results)\n",
        "    average = (b/runs)\n",
        "    # round to 3 decimals\n",
        "    average = round(average, 3)\n",
        "    sort_avgList.append(average)\n",
        "\n",
        "run(10, alist, results, bubbleSort_avgList)\n",
        "run(10, alist1, results, bubbleSort_avgList)\n",
        "run(10, alist2, results, bubbleSort_avgList)\n",
        "run(10, alist3, results, bubbleSort_avgList)\n",
        "run(10, alist4, results, bubbleSort_avgList)\n",
        "run(10, alist5, results, bubbleSort_avgList)\n",
        "run(10, alist6, results, bubbleSort_avgList)\n",
        "run(10, alist7, results, bubbleSort_avgList)\n",
        "run(10, alist8, results, bubbleSort_avgList)\n",
        "run(10, alist9, results, bubbleSort_avgList)\n",
        "run(10, alist10, results, bubbleSort_avgList)\n",
        "run(10, alist11, results, bubbleSort_avgList)\n",
        "run(10, alist12, results, bubbleSort_avgList)\n",
        "run(10, alist13, results, bubbleSort_avgList)\n",
        "run(10, alist14, results, bubbleSort_avgList)\n",
        "\n",
        "print(bubbleSort_avgList)"
      ]
    },
    {
      "cell_type": "code",
      "source": [
        "bubbleSort_avgList = [0.004, 0.016, 0.046, 0.135, 0.262, 0.551, 1.092, 2.337, 5.879, 10.794, 18.095, 27.724, 40.853, 123.975, 449.177]"
      ],
      "metadata": {
        "id": "OE6IDmfBvp4p"
      },
      "execution_count": 12,
      "outputs": []
    },
    {
      "cell_type": "markdown",
      "metadata": {
        "id": "cPSa4bIFaWnO"
      },
      "source": [
        "#### 2. Benchmark Merge Sort"
      ]
    },
    {
      "cell_type": "code",
      "source": [
        "from collections import Counter\n",
        "import time\n",
        "global mergeSort_avgList\n",
        "mergeSort_avgList = [] #empty initially\n",
        "runs = 10 #number of runs\n",
        "results = []\n",
        "\n",
        "def run(runs, lst, results, sort_avgList):\n",
        "    for r in range(runs):\n",
        "    # start timer\n",
        "        start_time = time.time()\n",
        "        ######## mergesort\n",
        "        mergeSort(lst)\n",
        "        end_time = time.time()\n",
        "        time_elapsed= end_time - start_time\n",
        "        results.append(time_elapsed)\n",
        "    b = sum(results)\n",
        "    average = (b/runs)\n",
        "    # round to 3 decimals\n",
        "    average = round(average, 3)\n",
        "    sort_avgList.append(average)\n",
        "\n",
        "run(10, alist, results, mergeSort_avgList)\n",
        "run(10, alist1, results, mergeSort_avgList)\n",
        "run(10, alist2, results, mergeSort_avgList)\n",
        "run(10, alist3, results, mergeSort_avgList)\n",
        "run(10, alist4, results, mergeSort_avgList)\n",
        "run(10, alist5, results, mergeSort_avgList)\n",
        "run(10, alist6, results, mergeSort_avgList)\n",
        "run(10, alist7, results, mergeSort_avgList)\n",
        "run(10, alist8, results, mergeSort_avgList)\n",
        "run(10, alist9, results, mergeSort_avgList)\n",
        "run(10, alist10, results, mergeSort_avgList)\n",
        "run(10, alist11, results, mergeSort_avgList)\n",
        "run(10, alist12, results, mergeSort_avgList)\n",
        "run(10, alist13, results, mergeSort_avgList)\n",
        "run(10, alist14, results, mergeSort_avgList)\n",
        "\n",
        "print(mergeSort_avgList)"
      ],
      "metadata": {
        "colab": {
          "base_uri": "https://localhost:8080/"
        },
        "id": "BZkbVZCSgkZG",
        "outputId": "8baa8249-5420-4081-f581-a44ad9fc0dda"
      },
      "execution_count": 7,
      "outputs": [
        {
          "output_type": "stream",
          "name": "stdout",
          "text": [
            "[0.001, 0.002, 0.007, 0.017, 0.024, 0.038, 0.061, 0.097, 0.161, 0.234, 0.331, 0.44, 0.578, 0.897, 1.391]\n"
          ]
        }
      ]
    },
    {
      "cell_type": "markdown",
      "metadata": {
        "id": "jnVfN4Kxaav-"
      },
      "source": [
        "#### 3. Benchmark Quick Sort"
      ]
    },
    {
      "cell_type": "code",
      "source": [
        "from collections import Counter\n",
        "import time\n",
        "global quickSort_avgList\n",
        "quickSort_avgList = [] #empty initially\n",
        "runs = 10 #number of runs\n",
        "results = []\n",
        "\n",
        "def run(runs, lst, results, sort_avgList):\n",
        "    for r in range(runs):\n",
        "    # start timer\n",
        "        start_time = time.time()\n",
        "        ######## quicksort\n",
        "        quickSort(lst)\n",
        "        end_time = time.time()\n",
        "        time_elapsed= end_time - start_time\n",
        "        results.append(time_elapsed)\n",
        "    b = sum(results)\n",
        "    average = (b/runs)\n",
        "    # round to 3 decimals\n",
        "    average = round(average, 3)\n",
        "    sort_avgList.append(average)\n",
        "\n",
        "run(10, alist, results, quickSort_avgList)\n",
        "run(10, alist1, results, quickSort_avgList)\n",
        "run(10, alist2, results, quickSort_avgList)\n",
        "run(10, alist3, results, quickSort_avgList)\n",
        "run(10, alist4, results, quickSort_avgList)\n",
        "run(10, alist5, results, quickSort_avgList)\n",
        "run(10, alist6, results, quickSort_avgList)\n",
        "run(10, alist7, results, quickSort_avgList)\n",
        "run(10, alist8, results, quickSort_avgList)\n",
        "run(10, alist9, results, quickSort_avgList)\n",
        "run(10, alist10, results, quickSort_avgList)\n",
        "run(10, alist11, results, quickSort_avgList)\n",
        "run(10, alist12, results, quickSort_avgList)\n",
        "run(10, alist13, results, quickSort_avgList)\n",
        "run(10, alist14, results, quickSort_avgList)\n",
        "\n",
        "print(quickSort_avgList)"
      ],
      "metadata": {
        "colab": {
          "base_uri": "https://localhost:8080/"
        },
        "id": "Z7LaVcTSicsq",
        "outputId": "c9ea40e0-2279-46b5-a701-3286278aa9b5"
      },
      "execution_count": 8,
      "outputs": [
        {
          "output_type": "stream",
          "name": "stdout",
          "text": [
            "[0.0, 0.002, 0.005, 0.011, 0.018, 0.03, 0.046, 0.075, 0.124, 0.19, 0.276, 0.383, 0.514, 1.06, 2.901]\n"
          ]
        }
      ]
    },
    {
      "cell_type": "markdown",
      "metadata": {
        "id": "6dgWRWxDadWW"
      },
      "source": [
        "#### 4. Benchmark Counting Sort"
      ]
    },
    {
      "cell_type": "code",
      "source": [
        "from collections import Counter\n",
        "import time\n",
        "global countSort_avgList\n",
        "countSort_avgList = [] #empty initially\n",
        "runs = 10 #number of runs\n",
        "results = []\n",
        "\n",
        "def run(runs, lst, results, sort_avgList):\n",
        "    for r in range(runs):\n",
        "    # start timer\n",
        "        start_time = time.time()\n",
        "        ######## countsort\n",
        "        countSort(lst)\n",
        "        end_time = time.time()\n",
        "        time_elapsed= end_time - start_time\n",
        "        results.append(time_elapsed)\n",
        "    b = sum(results)\n",
        "    average = (b/runs)\n",
        "    # round to 3 decimals\n",
        "    average = round(average, 3)\n",
        "    sort_avgList.append(average)\n",
        "\n",
        "run(10, alist, results, countSort_avgList)\n",
        "run(10, alist1, results, countSort_avgList)\n",
        "run(10, alist2, results, countSort_avgList)\n",
        "run(10, alist3, results, countSort_avgList)\n",
        "run(10, alist4, results, countSort_avgList)\n",
        "run(10, alist5, results, countSort_avgList)\n",
        "run(10, alist6, results, countSort_avgList)\n",
        "run(10, alist7, results, countSort_avgList)\n",
        "run(10, alist8, results, countSort_avgList)\n",
        "run(10, alist9, results, countSort_avgList)\n",
        "run(10, alist10, results, countSort_avgList)\n",
        "run(10, alist11, results, countSort_avgList)\n",
        "run(10, alist12, results, countSort_avgList)\n",
        "run(10, alist13, results, countSort_avgList)\n",
        "run(10, alist14, results, countSort_avgList)\n",
        "\n",
        "print(countSort_avgList)"
      ],
      "metadata": {
        "colab": {
          "base_uri": "https://localhost:8080/"
        },
        "id": "5f8i9mZejGFi",
        "outputId": "b665264f-b759-4db1-ac48-ed7b795e104c"
      },
      "execution_count": 9,
      "outputs": [
        {
          "output_type": "stream",
          "name": "stdout",
          "text": [
            "[0.0, 0.0, 0.0, 0.0, 0.001, 0.001, 0.002, 0.003, 0.004, 0.005, 0.007, 0.009, 0.012, 0.018, 0.031]\n"
          ]
        }
      ]
    },
    {
      "cell_type": "markdown",
      "metadata": {
        "id": "DLE7Ta3_afml"
      },
      "source": [
        "#### 5. Benchmark Insertion Sort"
      ]
    },
    {
      "cell_type": "code",
      "source": [
        "from collections import Counter\n",
        "import time\n",
        "global insertionSort_avgList\n",
        "insertionSort_avgList = [] #empty initially\n",
        "runs = 10 #number of runs\n",
        "results = []\n",
        "\n",
        "def run(runs, lst, results, sort_avgList):\n",
        "    for r in range(runs):\n",
        "    # start timer\n",
        "        start_time = time.time()\n",
        "        ######## insertionsort\n",
        "        insertionSort(lst)\n",
        "        end_time = time.time()\n",
        "        time_elapsed= end_time - start_time\n",
        "        results.append(time_elapsed)\n",
        "    b = sum(results)\n",
        "    average = (b/runs)\n",
        "    # round to 3 decimals\n",
        "    average = round(average, 3)\n",
        "    sort_avgList.append(average)\n",
        "\n",
        "run(10, alist, results, insertionSort_avgList)\n",
        "run(10, alist1, results, insertionSort_avgList)\n",
        "run(10, alist2, results, insertionSort_avgList)\n",
        "run(10, alist3, results, insertionSort_avgList)\n",
        "run(10, alist4, results, insertionSort_avgList)\n",
        "run(10, alist5, results, insertionSort_avgList)\n",
        "run(10, alist6, results, insertionSort_avgList)\n",
        "run(10, alist7, results, insertionSort_avgList)\n",
        "run(10, alist8, results, insertionSort_avgList)\n",
        "run(10, alist9, results, insertionSort_avgList)\n",
        "run(10, alist10, results, insertionSort_avgList)\n",
        "run(10, alist11, results, insertionSort_avgList)\n",
        "run(10, alist12, results, insertionSort_avgList)\n",
        "run(10, alist13, results, insertionSort_avgList)\n",
        "run(10, alist14, results, insertionSort_avgList)\n",
        "\n",
        "print(insertionSort_avgList)"
      ],
      "metadata": {
        "colab": {
          "base_uri": "https://localhost:8080/"
        },
        "id": "-3LxROO-yWbP",
        "outputId": "9ef6b917-2d95-4e46-c8f0-3323b550479b"
      },
      "execution_count": 10,
      "outputs": [
        {
          "output_type": "stream",
          "name": "stdout",
          "text": [
            "[0.0, 0.0, 0.0, 0.0, 0.001, 0.001, 0.001, 0.002, 0.003, 0.005, 0.007, 0.009, 0.011, 0.018, 0.031]\n"
          ]
        }
      ]
    },
    {
      "cell_type": "markdown",
      "source": [
        "# Results"
      ],
      "metadata": {
        "id": "q8TTQfpG3GqG"
      }
    },
    {
      "cell_type": "markdown",
      "source": [
        "### Creating a table for the results\n",
        "The data from the above benchmarking timings for all the sorting algorithms, we are creating a table. Source : https://pandas.pydata.org/"
      ],
      "metadata": {
        "id": "ocJYtSw40ceV"
      }
    },
    {
      "cell_type": "code",
      "source": [
        "import pandas as pd\n",
        "import numpy as np\n",
        "\n",
        "data = pd.DataFrame(columns = ['Size','Bubble Sort', 'Merge Sort', 'Quick sort', 'Counting sort', 'Insertion sort'])\n",
        "\n",
        "data['Size'] = [100, 250, 500, 750, 1000, 1500, 2000, 3000, 5000, 6000, 7500, 8500, 10000, 25000, 50000]\n",
        "\n",
        "data['Bubble Sort'] = bubbleSort_avgList\n",
        "data['Merge Sort'] = mergeSort_avgList\n",
        "data['Quick sort'] = quickSort_avgList\n",
        "data['Counting sort'] = countSort_avgList\n",
        "data['Insertion sort'] = insertionSort_avgList\n",
        "\n",
        "data"
      ],
      "metadata": {
        "colab": {
          "base_uri": "https://localhost:8080/",
          "height": 520
        },
        "id": "lzhr52tM0vR3",
        "outputId": "f1b1a19a-c111-4996-e86e-cda0523c0a6a"
      },
      "execution_count": 13,
      "outputs": [
        {
          "output_type": "execute_result",
          "data": {
            "text/plain": [
              "     Size  Bubble Sort  Merge Sort  Quick sort  Counting sort  Insertion sort\n",
              "0     100        0.004       0.001       0.000          0.000           0.000\n",
              "1     250        0.016       0.002       0.002          0.000           0.000\n",
              "2     500        0.046       0.007       0.005          0.000           0.000\n",
              "3     750        0.135       0.017       0.011          0.000           0.000\n",
              "4    1000        0.262       0.024       0.018          0.001           0.001\n",
              "5    1500        0.551       0.038       0.030          0.001           0.001\n",
              "6    2000        1.092       0.061       0.046          0.002           0.001\n",
              "7    3000        2.337       0.097       0.075          0.003           0.002\n",
              "8    5000        5.879       0.161       0.124          0.004           0.003\n",
              "9    6000       10.794       0.234       0.190          0.005           0.005\n",
              "10   7500       18.095       0.331       0.276          0.007           0.007\n",
              "11   8500       27.724       0.440       0.383          0.009           0.009\n",
              "12  10000       40.853       0.578       0.514          0.012           0.011\n",
              "13  25000      123.975       0.897       1.060          0.018           0.018\n",
              "14  50000      449.177       1.391       2.901          0.031           0.031"
            ],
            "text/html": [
              "\n",
              "  <div id=\"df-5c868d2c-b03d-40a9-bf3e-44615c9d2c05\">\n",
              "    <div class=\"colab-df-container\">\n",
              "      <div>\n",
              "<style scoped>\n",
              "    .dataframe tbody tr th:only-of-type {\n",
              "        vertical-align: middle;\n",
              "    }\n",
              "\n",
              "    .dataframe tbody tr th {\n",
              "        vertical-align: top;\n",
              "    }\n",
              "\n",
              "    .dataframe thead th {\n",
              "        text-align: right;\n",
              "    }\n",
              "</style>\n",
              "<table border=\"1\" class=\"dataframe\">\n",
              "  <thead>\n",
              "    <tr style=\"text-align: right;\">\n",
              "      <th></th>\n",
              "      <th>Size</th>\n",
              "      <th>Bubble Sort</th>\n",
              "      <th>Merge Sort</th>\n",
              "      <th>Quick sort</th>\n",
              "      <th>Counting sort</th>\n",
              "      <th>Insertion sort</th>\n",
              "    </tr>\n",
              "  </thead>\n",
              "  <tbody>\n",
              "    <tr>\n",
              "      <th>0</th>\n",
              "      <td>100</td>\n",
              "      <td>0.004</td>\n",
              "      <td>0.001</td>\n",
              "      <td>0.000</td>\n",
              "      <td>0.000</td>\n",
              "      <td>0.000</td>\n",
              "    </tr>\n",
              "    <tr>\n",
              "      <th>1</th>\n",
              "      <td>250</td>\n",
              "      <td>0.016</td>\n",
              "      <td>0.002</td>\n",
              "      <td>0.002</td>\n",
              "      <td>0.000</td>\n",
              "      <td>0.000</td>\n",
              "    </tr>\n",
              "    <tr>\n",
              "      <th>2</th>\n",
              "      <td>500</td>\n",
              "      <td>0.046</td>\n",
              "      <td>0.007</td>\n",
              "      <td>0.005</td>\n",
              "      <td>0.000</td>\n",
              "      <td>0.000</td>\n",
              "    </tr>\n",
              "    <tr>\n",
              "      <th>3</th>\n",
              "      <td>750</td>\n",
              "      <td>0.135</td>\n",
              "      <td>0.017</td>\n",
              "      <td>0.011</td>\n",
              "      <td>0.000</td>\n",
              "      <td>0.000</td>\n",
              "    </tr>\n",
              "    <tr>\n",
              "      <th>4</th>\n",
              "      <td>1000</td>\n",
              "      <td>0.262</td>\n",
              "      <td>0.024</td>\n",
              "      <td>0.018</td>\n",
              "      <td>0.001</td>\n",
              "      <td>0.001</td>\n",
              "    </tr>\n",
              "    <tr>\n",
              "      <th>5</th>\n",
              "      <td>1500</td>\n",
              "      <td>0.551</td>\n",
              "      <td>0.038</td>\n",
              "      <td>0.030</td>\n",
              "      <td>0.001</td>\n",
              "      <td>0.001</td>\n",
              "    </tr>\n",
              "    <tr>\n",
              "      <th>6</th>\n",
              "      <td>2000</td>\n",
              "      <td>1.092</td>\n",
              "      <td>0.061</td>\n",
              "      <td>0.046</td>\n",
              "      <td>0.002</td>\n",
              "      <td>0.001</td>\n",
              "    </tr>\n",
              "    <tr>\n",
              "      <th>7</th>\n",
              "      <td>3000</td>\n",
              "      <td>2.337</td>\n",
              "      <td>0.097</td>\n",
              "      <td>0.075</td>\n",
              "      <td>0.003</td>\n",
              "      <td>0.002</td>\n",
              "    </tr>\n",
              "    <tr>\n",
              "      <th>8</th>\n",
              "      <td>5000</td>\n",
              "      <td>5.879</td>\n",
              "      <td>0.161</td>\n",
              "      <td>0.124</td>\n",
              "      <td>0.004</td>\n",
              "      <td>0.003</td>\n",
              "    </tr>\n",
              "    <tr>\n",
              "      <th>9</th>\n",
              "      <td>6000</td>\n",
              "      <td>10.794</td>\n",
              "      <td>0.234</td>\n",
              "      <td>0.190</td>\n",
              "      <td>0.005</td>\n",
              "      <td>0.005</td>\n",
              "    </tr>\n",
              "    <tr>\n",
              "      <th>10</th>\n",
              "      <td>7500</td>\n",
              "      <td>18.095</td>\n",
              "      <td>0.331</td>\n",
              "      <td>0.276</td>\n",
              "      <td>0.007</td>\n",
              "      <td>0.007</td>\n",
              "    </tr>\n",
              "    <tr>\n",
              "      <th>11</th>\n",
              "      <td>8500</td>\n",
              "      <td>27.724</td>\n",
              "      <td>0.440</td>\n",
              "      <td>0.383</td>\n",
              "      <td>0.009</td>\n",
              "      <td>0.009</td>\n",
              "    </tr>\n",
              "    <tr>\n",
              "      <th>12</th>\n",
              "      <td>10000</td>\n",
              "      <td>40.853</td>\n",
              "      <td>0.578</td>\n",
              "      <td>0.514</td>\n",
              "      <td>0.012</td>\n",
              "      <td>0.011</td>\n",
              "    </tr>\n",
              "    <tr>\n",
              "      <th>13</th>\n",
              "      <td>25000</td>\n",
              "      <td>123.975</td>\n",
              "      <td>0.897</td>\n",
              "      <td>1.060</td>\n",
              "      <td>0.018</td>\n",
              "      <td>0.018</td>\n",
              "    </tr>\n",
              "    <tr>\n",
              "      <th>14</th>\n",
              "      <td>50000</td>\n",
              "      <td>449.177</td>\n",
              "      <td>1.391</td>\n",
              "      <td>2.901</td>\n",
              "      <td>0.031</td>\n",
              "      <td>0.031</td>\n",
              "    </tr>\n",
              "  </tbody>\n",
              "</table>\n",
              "</div>\n",
              "      <button class=\"colab-df-convert\" onclick=\"convertToInteractive('df-5c868d2c-b03d-40a9-bf3e-44615c9d2c05')\"\n",
              "              title=\"Convert this dataframe to an interactive table.\"\n",
              "              style=\"display:none;\">\n",
              "        \n",
              "  <svg xmlns=\"http://www.w3.org/2000/svg\" height=\"24px\"viewBox=\"0 0 24 24\"\n",
              "       width=\"24px\">\n",
              "    <path d=\"M0 0h24v24H0V0z\" fill=\"none\"/>\n",
              "    <path d=\"M18.56 5.44l.94 2.06.94-2.06 2.06-.94-2.06-.94-.94-2.06-.94 2.06-2.06.94zm-11 1L8.5 8.5l.94-2.06 2.06-.94-2.06-.94L8.5 2.5l-.94 2.06-2.06.94zm10 10l.94 2.06.94-2.06 2.06-.94-2.06-.94-.94-2.06-.94 2.06-2.06.94z\"/><path d=\"M17.41 7.96l-1.37-1.37c-.4-.4-.92-.59-1.43-.59-.52 0-1.04.2-1.43.59L10.3 9.45l-7.72 7.72c-.78.78-.78 2.05 0 2.83L4 21.41c.39.39.9.59 1.41.59.51 0 1.02-.2 1.41-.59l7.78-7.78 2.81-2.81c.8-.78.8-2.07 0-2.86zM5.41 20L4 18.59l7.72-7.72 1.47 1.35L5.41 20z\"/>\n",
              "  </svg>\n",
              "      </button>\n",
              "      \n",
              "  <style>\n",
              "    .colab-df-container {\n",
              "      display:flex;\n",
              "      flex-wrap:wrap;\n",
              "      gap: 12px;\n",
              "    }\n",
              "\n",
              "    .colab-df-convert {\n",
              "      background-color: #E8F0FE;\n",
              "      border: none;\n",
              "      border-radius: 50%;\n",
              "      cursor: pointer;\n",
              "      display: none;\n",
              "      fill: #1967D2;\n",
              "      height: 32px;\n",
              "      padding: 0 0 0 0;\n",
              "      width: 32px;\n",
              "    }\n",
              "\n",
              "    .colab-df-convert:hover {\n",
              "      background-color: #E2EBFA;\n",
              "      box-shadow: 0px 1px 2px rgba(60, 64, 67, 0.3), 0px 1px 3px 1px rgba(60, 64, 67, 0.15);\n",
              "      fill: #174EA6;\n",
              "    }\n",
              "\n",
              "    [theme=dark] .colab-df-convert {\n",
              "      background-color: #3B4455;\n",
              "      fill: #D2E3FC;\n",
              "    }\n",
              "\n",
              "    [theme=dark] .colab-df-convert:hover {\n",
              "      background-color: #434B5C;\n",
              "      box-shadow: 0px 1px 3px 1px rgba(0, 0, 0, 0.15);\n",
              "      filter: drop-shadow(0px 1px 2px rgba(0, 0, 0, 0.3));\n",
              "      fill: #FFFFFF;\n",
              "    }\n",
              "  </style>\n",
              "\n",
              "      <script>\n",
              "        const buttonEl =\n",
              "          document.querySelector('#df-5c868d2c-b03d-40a9-bf3e-44615c9d2c05 button.colab-df-convert');\n",
              "        buttonEl.style.display =\n",
              "          google.colab.kernel.accessAllowed ? 'block' : 'none';\n",
              "\n",
              "        async function convertToInteractive(key) {\n",
              "          const element = document.querySelector('#df-5c868d2c-b03d-40a9-bf3e-44615c9d2c05');\n",
              "          const dataTable =\n",
              "            await google.colab.kernel.invokeFunction('convertToInteractive',\n",
              "                                                     [key], {});\n",
              "          if (!dataTable) return;\n",
              "\n",
              "          const docLinkHtml = 'Like what you see? Visit the ' +\n",
              "            '<a target=\"_blank\" href=https://colab.research.google.com/notebooks/data_table.ipynb>data table notebook</a>'\n",
              "            + ' to learn more about interactive tables.';\n",
              "          element.innerHTML = '';\n",
              "          dataTable['output_type'] = 'display_data';\n",
              "          await google.colab.output.renderOutput(dataTable, element);\n",
              "          const docLink = document.createElement('div');\n",
              "          docLink.innerHTML = docLinkHtml;\n",
              "          element.appendChild(docLink);\n",
              "        }\n",
              "      </script>\n",
              "    </div>\n",
              "  </div>\n",
              "  "
            ]
          },
          "metadata": {},
          "execution_count": 13
        }
      ]
    },
    {
      "cell_type": "markdown",
      "source": [
        "### Summary statistics"
      ],
      "metadata": {
        "id": "inDEOw3L238F"
      }
    },
    {
      "cell_type": "code",
      "source": [
        "summary = data.describe()\n",
        "summary = summary.transpose()\n",
        "summary"
      ],
      "metadata": {
        "id": "Jk8pSsY-25qY",
        "colab": {
          "base_uri": "https://localhost:8080/",
          "height": 238
        },
        "outputId": "2f8fa70e-4be0-499d-efd7-608ba8fb64a8"
      },
      "execution_count": 14,
      "outputs": [
        {
          "output_type": "execute_result",
          "data": {
            "text/plain": [
              "                count         mean           std      min       25%       50%  \\\n",
              "Size             15.0  8073.333333  13239.427948  100.000  875.0000  3000.000   \n",
              "Bubble Sort      15.0    45.396000    116.232821    0.004    0.1985     2.337   \n",
              "Merge Sort       15.0     0.285267      0.401092    0.001    0.0205     0.097   \n",
              "Quick sort       15.0     0.375667      0.754518    0.000    0.0145     0.075   \n",
              "Counting sort    15.0     0.006200      0.008612    0.000    0.0005     0.003   \n",
              "Insertion sort   15.0     0.005933      0.008656    0.000    0.0005     0.002   \n",
              "\n",
              "                      75%        max  \n",
              "Size            8000.0000  50000.000  \n",
              "Bubble Sort       22.9095    449.177  \n",
              "Merge Sort         0.3855      1.391  \n",
              "Quick sort         0.3295      2.901  \n",
              "Counting sort      0.0080      0.031  \n",
              "Insertion sort     0.0080      0.031  "
            ],
            "text/html": [
              "\n",
              "  <div id=\"df-5b99815c-3286-4a5f-9202-aae4cf7a40b7\">\n",
              "    <div class=\"colab-df-container\">\n",
              "      <div>\n",
              "<style scoped>\n",
              "    .dataframe tbody tr th:only-of-type {\n",
              "        vertical-align: middle;\n",
              "    }\n",
              "\n",
              "    .dataframe tbody tr th {\n",
              "        vertical-align: top;\n",
              "    }\n",
              "\n",
              "    .dataframe thead th {\n",
              "        text-align: right;\n",
              "    }\n",
              "</style>\n",
              "<table border=\"1\" class=\"dataframe\">\n",
              "  <thead>\n",
              "    <tr style=\"text-align: right;\">\n",
              "      <th></th>\n",
              "      <th>count</th>\n",
              "      <th>mean</th>\n",
              "      <th>std</th>\n",
              "      <th>min</th>\n",
              "      <th>25%</th>\n",
              "      <th>50%</th>\n",
              "      <th>75%</th>\n",
              "      <th>max</th>\n",
              "    </tr>\n",
              "  </thead>\n",
              "  <tbody>\n",
              "    <tr>\n",
              "      <th>Size</th>\n",
              "      <td>15.0</td>\n",
              "      <td>8073.333333</td>\n",
              "      <td>13239.427948</td>\n",
              "      <td>100.000</td>\n",
              "      <td>875.0000</td>\n",
              "      <td>3000.000</td>\n",
              "      <td>8000.0000</td>\n",
              "      <td>50000.000</td>\n",
              "    </tr>\n",
              "    <tr>\n",
              "      <th>Bubble Sort</th>\n",
              "      <td>15.0</td>\n",
              "      <td>45.396000</td>\n",
              "      <td>116.232821</td>\n",
              "      <td>0.004</td>\n",
              "      <td>0.1985</td>\n",
              "      <td>2.337</td>\n",
              "      <td>22.9095</td>\n",
              "      <td>449.177</td>\n",
              "    </tr>\n",
              "    <tr>\n",
              "      <th>Merge Sort</th>\n",
              "      <td>15.0</td>\n",
              "      <td>0.285267</td>\n",
              "      <td>0.401092</td>\n",
              "      <td>0.001</td>\n",
              "      <td>0.0205</td>\n",
              "      <td>0.097</td>\n",
              "      <td>0.3855</td>\n",
              "      <td>1.391</td>\n",
              "    </tr>\n",
              "    <tr>\n",
              "      <th>Quick sort</th>\n",
              "      <td>15.0</td>\n",
              "      <td>0.375667</td>\n",
              "      <td>0.754518</td>\n",
              "      <td>0.000</td>\n",
              "      <td>0.0145</td>\n",
              "      <td>0.075</td>\n",
              "      <td>0.3295</td>\n",
              "      <td>2.901</td>\n",
              "    </tr>\n",
              "    <tr>\n",
              "      <th>Counting sort</th>\n",
              "      <td>15.0</td>\n",
              "      <td>0.006200</td>\n",
              "      <td>0.008612</td>\n",
              "      <td>0.000</td>\n",
              "      <td>0.0005</td>\n",
              "      <td>0.003</td>\n",
              "      <td>0.0080</td>\n",
              "      <td>0.031</td>\n",
              "    </tr>\n",
              "    <tr>\n",
              "      <th>Insertion sort</th>\n",
              "      <td>15.0</td>\n",
              "      <td>0.005933</td>\n",
              "      <td>0.008656</td>\n",
              "      <td>0.000</td>\n",
              "      <td>0.0005</td>\n",
              "      <td>0.002</td>\n",
              "      <td>0.0080</td>\n",
              "      <td>0.031</td>\n",
              "    </tr>\n",
              "  </tbody>\n",
              "</table>\n",
              "</div>\n",
              "      <button class=\"colab-df-convert\" onclick=\"convertToInteractive('df-5b99815c-3286-4a5f-9202-aae4cf7a40b7')\"\n",
              "              title=\"Convert this dataframe to an interactive table.\"\n",
              "              style=\"display:none;\">\n",
              "        \n",
              "  <svg xmlns=\"http://www.w3.org/2000/svg\" height=\"24px\"viewBox=\"0 0 24 24\"\n",
              "       width=\"24px\">\n",
              "    <path d=\"M0 0h24v24H0V0z\" fill=\"none\"/>\n",
              "    <path d=\"M18.56 5.44l.94 2.06.94-2.06 2.06-.94-2.06-.94-.94-2.06-.94 2.06-2.06.94zm-11 1L8.5 8.5l.94-2.06 2.06-.94-2.06-.94L8.5 2.5l-.94 2.06-2.06.94zm10 10l.94 2.06.94-2.06 2.06-.94-2.06-.94-.94-2.06-.94 2.06-2.06.94z\"/><path d=\"M17.41 7.96l-1.37-1.37c-.4-.4-.92-.59-1.43-.59-.52 0-1.04.2-1.43.59L10.3 9.45l-7.72 7.72c-.78.78-.78 2.05 0 2.83L4 21.41c.39.39.9.59 1.41.59.51 0 1.02-.2 1.41-.59l7.78-7.78 2.81-2.81c.8-.78.8-2.07 0-2.86zM5.41 20L4 18.59l7.72-7.72 1.47 1.35L5.41 20z\"/>\n",
              "  </svg>\n",
              "      </button>\n",
              "      \n",
              "  <style>\n",
              "    .colab-df-container {\n",
              "      display:flex;\n",
              "      flex-wrap:wrap;\n",
              "      gap: 12px;\n",
              "    }\n",
              "\n",
              "    .colab-df-convert {\n",
              "      background-color: #E8F0FE;\n",
              "      border: none;\n",
              "      border-radius: 50%;\n",
              "      cursor: pointer;\n",
              "      display: none;\n",
              "      fill: #1967D2;\n",
              "      height: 32px;\n",
              "      padding: 0 0 0 0;\n",
              "      width: 32px;\n",
              "    }\n",
              "\n",
              "    .colab-df-convert:hover {\n",
              "      background-color: #E2EBFA;\n",
              "      box-shadow: 0px 1px 2px rgba(60, 64, 67, 0.3), 0px 1px 3px 1px rgba(60, 64, 67, 0.15);\n",
              "      fill: #174EA6;\n",
              "    }\n",
              "\n",
              "    [theme=dark] .colab-df-convert {\n",
              "      background-color: #3B4455;\n",
              "      fill: #D2E3FC;\n",
              "    }\n",
              "\n",
              "    [theme=dark] .colab-df-convert:hover {\n",
              "      background-color: #434B5C;\n",
              "      box-shadow: 0px 1px 3px 1px rgba(0, 0, 0, 0.15);\n",
              "      filter: drop-shadow(0px 1px 2px rgba(0, 0, 0, 0.3));\n",
              "      fill: #FFFFFF;\n",
              "    }\n",
              "  </style>\n",
              "\n",
              "      <script>\n",
              "        const buttonEl =\n",
              "          document.querySelector('#df-5b99815c-3286-4a5f-9202-aae4cf7a40b7 button.colab-df-convert');\n",
              "        buttonEl.style.display =\n",
              "          google.colab.kernel.accessAllowed ? 'block' : 'none';\n",
              "\n",
              "        async function convertToInteractive(key) {\n",
              "          const element = document.querySelector('#df-5b99815c-3286-4a5f-9202-aae4cf7a40b7');\n",
              "          const dataTable =\n",
              "            await google.colab.kernel.invokeFunction('convertToInteractive',\n",
              "                                                     [key], {});\n",
              "          if (!dataTable) return;\n",
              "\n",
              "          const docLinkHtml = 'Like what you see? Visit the ' +\n",
              "            '<a target=\"_blank\" href=https://colab.research.google.com/notebooks/data_table.ipynb>data table notebook</a>'\n",
              "            + ' to learn more about interactive tables.';\n",
              "          element.innerHTML = '';\n",
              "          dataTable['output_type'] = 'display_data';\n",
              "          await google.colab.output.renderOutput(dataTable, element);\n",
              "          const docLink = document.createElement('div');\n",
              "          docLink.innerHTML = docLinkHtml;\n",
              "          element.appendChild(docLink);\n",
              "        }\n",
              "      </script>\n",
              "    </div>\n",
              "  </div>\n",
              "  "
            ]
          },
          "metadata": {},
          "execution_count": 14
        }
      ]
    },
    {
      "cell_type": "markdown",
      "source": [
        "### Visualising the algorithm timings by plotting them on a graph\n",
        "Seaborn https://seaborn.pydata.org/ and Matplotlib https://matplotlib.org/ were used to generate a data visualisation of the algorithms\n"
      ],
      "metadata": {
        "id": "8g3QC9X23LM5"
      }
    },
    {
      "cell_type": "code",
      "source": [
        "import seaborn as sns\n",
        "import matplotlib.pyplot as plt\n",
        "\n",
        "sns.set(style=\"whitegrid\", palette=\"husl\", rc={'figure.figsize':(14,16)})\n",
        "\n",
        "title=\"Benchmarking 5 Sorting Algorithms\"\n",
        "\n",
        "\n",
        "# Bubble Sort\n",
        "bubble = sns.lineplot( x=\"Size\", y=\"Bubble Sort\", data=data, marker='o', label='Bubble Sort')\n",
        "# Merge sort\n",
        "merge = sns.lineplot( x=\"Size\", y=\"Merge Sort\", data=data, marker='o', label='Merge Sort')\n",
        "# Quick sort\n",
        "quick = sns.lineplot( x=\"Size\", y=\"Quick sort\", data=data, marker='o',label=\"Quick Sort\")\n",
        "# Counting sort\n",
        "counting = sns.lineplot( x=\"Size\", y=\"Counting sort\", marker='o', data=data, label=\"Counting Sort\")\n",
        "# Insertion sort\n",
        "insert = sns.lineplot( x=\"Size\", y=\"Insertion sort\", data=data, marker='o', label=\"Insertion Sort\")\n",
        "\n",
        "plt.xlabel('Input size n', fontsize=16)\n",
        "plt.ylabel('Running Time in seconds',fontsize=16)\n",
        "\n",
        "# Increasing font size\n",
        "plt.title(title, fontsize=26)\n",
        "\n",
        "# Show the plot\n",
        "plt.show()"
      ],
      "metadata": {
        "id": "owukaVyS3djy",
        "colab": {
          "base_uri": "https://localhost:8080/",
          "height": 965
        },
        "outputId": "16a0e9ac-b0b0-4792-da94-0a0e3252b999"
      },
      "execution_count": 17,
      "outputs": [
        {
          "output_type": "display_data",
          "data": {
            "text/plain": [
              "<Figure size 1008x1152 with 1 Axes>"
            ],
            "image/png": "[encoded data removed]"
          },
          "metadata": {}
        }
      ]
    },
    {
      "cell_type": "markdown",
      "source": [
        "### Take a closer look"
      ],
      "metadata": {
        "id": "AGnWv_99wC_N"
      }
    },
    {
      "cell_type": "code",
      "source": [
        "import seaborn as sns\n",
        "import matplotlib.pyplot as plt\n",
        "sns.set(style=\"whitegrid\", palette=\"husl\", rc={'figure.figsize':(14,14)})\n",
        "\n",
        "title=\"Benchmarking Sorting Algorithms (closer look)\"\n",
        "\n",
        "\n",
        "# Bubble Sort\n",
        "bubble = sns.lineplot( x=\"Size\", y=\"Bubble Sort\", data = data, marker='o', label='Bubble Sort')\n",
        "# Merge sort\n",
        "merge = sns.lineplot( x=\"Size\", y=\"Merge Sort\", data=data, marker='o', label='Merge Sort')\n",
        "# Counting sort\n",
        "counting = sns.lineplot( x=\"Size\", y=\"Counting sort\", marker='o', data=data, label=\"Counting Sort\")\n",
        "# Quick sort\n",
        "quick = sns.lineplot( x=\"Size\", y=\"Quick sort\", data=data, marker='o',label=\"Quick Sort\")\n",
        "# Insertion sort\n",
        "insert = sns.lineplot( x=\"Size\", y=\"Insertion sort\", data=data, marker='o', label=\"Insertion Sort\")\n",
        "\n",
        "plt.xlabel('Input size n', fontsize=16)\n",
        "plt.ylabel('Running Time in seconds',fontsize=16)\n",
        "\n",
        "# Increasing font size\n",
        "plt.title(title, fontsize=26)\n",
        "\n",
        "\n",
        "# Show the plot\n",
        "plt.show()"
      ],
      "metadata": {
        "colab": {
          "base_uri": "https://localhost:8080/",
          "height": 856
        },
        "id": "DIEA2fFqwFIe",
        "outputId": "2ddd7023-7cb4-4c9d-83f2-47688e1c614d"
      },
      "execution_count": 19,
      "outputs": [
        {
          "output_type": "display_data",
          "data": {
            "text/plain": [
              "<Figure size 1008x1008 with 1 Axes>"
            ],
            "image/png": "[encoded data removed]"
          },
          "metadata": {}
        }
      ]
    },
    {
      "cell_type": "code",
      "source": [
        ""
      ],
      "metadata": {
        "id": "evDvGHY3wHPZ"
      },
      "execution_count": null,
      "outputs": []
    }
  ],
  "metadata": {
    "colab": {
      "collapsed_sections": [],
      "name": "SORTING_ALGORITHMS_PROJECT.ipynb",
      "provenance": [],
      "toc_visible": true
    },
    "kernelspec": {
      "display_name": "Python 3",
      "name": "python3"
    },
    "language_info": {
      "codemirror_mode": {
        "name": "ipython",
        "version": 3
      },
      "file_extension": ".py",
      "mimetype": "text/x-python",
      "name": "python",
      "nbconvert_exporter": "python",
      "pygments_lexer": "ipython3",
      "version": "3.10.0"
    }
  },
  "nbformat": 4,
  "nbformat_minor": 0
}