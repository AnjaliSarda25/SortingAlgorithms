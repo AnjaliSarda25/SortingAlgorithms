{
  "cells": [
    {
      "cell_type": "markdown",
      "metadata": {
        "id": "PMUUPyrHVM8n"
      },
      "source": [
        "# Sorting Algorithms"
      ]
    },
    {
      "cell_type": "markdown",
      "metadata": {
        "id": "R6M4zajMVULi"
      },
      "source": [
        "# 1. Bubble Sort (basic comparison-based sort)"
      ]
    },
    {
      "cell_type": "markdown",
      "metadata": {
        "id": "FOpqRLYZVY1z"
      },
      "source": [
        "Source : https://www.geeksforgeeks.org/bubble-sort/\n",
        "\n",
        "Bubble Sort is the simplest sorting algorithm that works by repeatedly swapping the adjacent elements if they are in wrong order. \n",
        "\n",
        "**Working**\n",
        "\n",
        "  1. It starts at the beginning of the dataset and compares the first two elements, and if the first element is greater than the second, then it will swap them.\n",
        "  2. It will continue to repeat this process until no more swaps are required.\n",
        "\n",
        "**Performance**\n",
        "\n",
        "Bubble sort has a worst and average case time complexity of O(n*n), n being the number of elements to be sorted. The worst case cocurs when the dataset is sorted in reverse order.\n",
        "When the dataset is already sorted (best-case), the time complexity is only O(n). It is not practical and is very inefficient and hence is rarely used in real world scenarios."
      ]
    },
    {
      "cell_type": "markdown",
      "metadata": {
        "id": "8wanBZQQXvPS"
      },
      "source": [
        "# <font color = \"dark cyan\">Bubble Sort\n",
        "Source : https://www.w3resource.com/php-exercises/searching-and-sorting-algorithm/searching-and-sorting-algorithm-exercise-6.php"
      ]
    },
    {
      "cell_type": "markdown",
      "metadata": {
        "id": "JcEaxW4wYOfO"
      },
      "source": [
        "![title](bubble-sort.png)"
      ]
    },
    {
      "cell_type": "code",
      "execution_count": 8,
      "metadata": {
        "colab": {
          "base_uri": "https://localhost:8080/"
        },
        "id": "Xjc9RZPZYmm6",
        "outputId": "6876f862-8afc-46e7-f671-352c06cb30ea"
      },
      "outputs": [
        {
          "output_type": "stream",
          "name": "stdout",
          "text": [
            "The unsorted list is:  [5, 1, 4, 2, 8]\n",
            "The sorted list is  :  [1, 2, 4, 5, 8]\n"
          ]
        }
      ],
      "source": [
        "#code sourced from https://www.javatpoint.com/bubble-sort-in-python\n",
        "# Creating a bubble sort function  \n",
        "def bubbleSort(list1):  \n",
        "    # Outer loop to traverse the entire list  \n",
        "    for i in range(0,len(list1)-1):  \n",
        "        for j in range(len(list1)-1):  \n",
        "            if(list1[j]>list1[j+1]):  \n",
        "                temp = list1[j]  \n",
        "                list1[j] = list1[j+1]  \n",
        "                list1[j+1] = temp  \n",
        "  \n",
        "list1 = [5, 1, 4, 2, 8]  \n",
        "print(\"The unsorted list is: \", list1)  \n",
        "# Calling the bubble sort function\n",
        "bubbleSort(list1)\n",
        "print(\"The sorted list is  : \", list1)  "
      ]
    },
    {
      "cell_type": "markdown",
      "metadata": {
        "id": "UQOdevcOZ3Rc"
      },
      "source": [
        "# 2. Merge Sort (efficient comparison-based sort)"
      ]
    },
    {
      "cell_type": "markdown",
      "metadata": {
        "id": "bTnvXfG_aBDL"
      },
      "source": [
        "Source : https://www.geeksforgeeks.org/merge-sort/\n",
        "\n",
        "Merge sort is a recursive divide and conquer algorithm. It recursively divides the input array into two halves, calls itself for the two halves, and then merges the two sorted halves. \n",
        "\n",
        "**Working**\n",
        "  1. It starts by breaking down the array into subarrays until each of these subarrays contains only one element.\n",
        "  2. Repeatedly merges the subarrays to create new sorted subarrays until finally there is only one subarray left, i.e. the sorted array.\n",
        "\n",
        "  **Performance**\n"
      ]
    },
    {
      "cell_type": "markdown",
      "metadata": {
        "id": "sRj5vAzfhkGI"
      },
      "source": [
        "Time-complexity of Merge Sort in best, worst and average case is O(nlogn), n being the number of elements to be sorted in the dataset. As its time complexity is similar in all 3 cases, that makes it a good choice for predictable running behaviour."
      ]
    },
    {
      "cell_type": "markdown",
      "metadata": {
        "id": "cWfFecDriJcO"
      },
      "source": [
        "# <font color = \"dark cyan\">Merge Sort\n",
        "Source : https://www.w3resource.com/python-exercises/data-structures-and-algorithms/python-search-and-sorting-exercise-8.php"
      ]
    },
    {
      "cell_type": "markdown",
      "metadata": {
        "id": "V788lMYriaR2"
      },
      "source": [
        "![title](merge_sort.png)"
      ]
    },
    {
      "cell_type": "code",
      "execution_count": 17,
      "metadata": {
        "colab": {
          "base_uri": "https://localhost:8080/"
        },
        "id": "PqQANwmAigyv",
        "outputId": "8ade33c2-c073-4883-f07f-1f2f1e0fc373"
      },
      "outputs": [
        {
          "output_type": "stream",
          "name": "stdout",
          "text": [
            "Sorted list  [17, 20, 26, 31, 44, 54, 55, 77, 93]\n"
          ]
        }
      ],
      "source": [
        "# code sourced from http://interactivepython.org/runestone/static/pythonds/SortSearch/TheMergeSort.html\n",
        "def mergeSort(alist):\n",
        "    if len(alist)>1:\n",
        "        mid = len(alist)//2\n",
        "        lefthalf = alist[:mid]\n",
        "        righthalf = alist[mid:]\n",
        "\n",
        "        mergeSort(lefthalf)\n",
        "        mergeSort(righthalf)\n",
        "\n",
        "        i=0\n",
        "        j=0\n",
        "        k=0\n",
        "        while i < len(lefthalf) and j < len(righthalf):\n",
        "            if lefthalf[i] < righthalf[j]:\n",
        "                alist[k]=lefthalf[i]\n",
        "                i=i+1\n",
        "            else:\n",
        "                alist[k]=righthalf[j]\n",
        "                j=j+1\n",
        "            k=k+1\n",
        "\n",
        "        while i < len(lefthalf):\n",
        "            alist[k]=lefthalf[i]\n",
        "            i=i+1\n",
        "            k=k+1\n",
        "\n",
        "        while j < len(righthalf):\n",
        "            alist[k]=righthalf[j]\n",
        "            j=j+1\n",
        "            k=k+1\n",
        "\n",
        "alist = [54,26,93,17,77,31,44,55,20]\n",
        "mergeSort(alist)\n",
        "print(\"Sorted list \", alist)"
      ]
    },
    {
      "cell_type": "markdown",
      "metadata": {
        "id": "ripEm7YllKuX"
      },
      "source": [
        "# 3. Quick Sort"
      ]
    },
    {
      "cell_type": "markdown",
      "metadata": {
        "id": "rg7oVc_olUiu"
      },
      "source": [
        "Source : https://www.geeksforgeeks.org/quick-sort/\n",
        "\n",
        "It is a recursive divide and conquer algorithm which is used very commonly for sorting because of its efficiency. \n",
        "\n",
        "**Working**\n",
        "  1. Pivot selection : Different ways to pick an element from the array called \"pivot\".\n",
        "  2. Partitioning : Given an array and an element x of array as pivot, put x at its correct position in sorted array and put all smaller elements (smaller than x) before x, and put all greater elements (greater than x) after x. \n",
        "  3. Recursion : Recursively apply both the above steps to both the subarrays.\n",
        "\n",
        "**Performance**\n",
        "Time complexity of Quick sort in best case scenario is O(nlogn), in worst case is O(n*n) and average case is O(nlogn). "
      ]
    },
    {
      "cell_type": "markdown",
      "metadata": {
        "id": "BJy3GdTsoSQj"
      },
      "source": [
        "# <font color = \"dark cyan\">Quick Sort\n",
        "![title](quicksort.png)"
      ]
    },
    {
      "cell_type": "code",
      "execution_count": 10,
      "metadata": {
        "colab": {
          "base_uri": "https://localhost:8080/"
        },
        "id": "Xo9tWm3Bn-LU",
        "outputId": "984f11b8-bf9a-4dc5-92cd-d75b8af1c707"
      },
      "outputs": [
        {
          "output_type": "stream",
          "name": "stdout",
          "text": [
            "Unsorted Array:  [8, 7, 2, 1, 0, 9, 6]\n",
            "Sorted Array:  [0, 1, 2, 6, 7, 8, 9]\n"
          ]
        }
      ],
      "source": [
        "#Code sourced from https://www.programiz.com/dsa/quick-sort\n",
        "#function to find partition\n",
        "def partition(array, low, high):\n",
        "  # choose the rightmost element as pivot\n",
        "  pivot = array[high]\n",
        "  # pointer for greater element\n",
        "  i = low - 1\n",
        "\n",
        "  # traverse through all elements and compare each element with pivot\n",
        "  for j in range(low, high):\n",
        "    if array[j] <= pivot:\n",
        "      # if element smaller than pivot is found swap it with the greater element pointed by i\n",
        "      i = i + 1\n",
        "      # swapping element at i with element at j\n",
        "      (array[i], array[j]) = (array[j], array[i])\n",
        "\n",
        "  # swap the pivot element with the greater element specified by i\n",
        "  (array[i + 1], array[high]) = (array[high], array[i + 1])\n",
        "  # return the position from where partition is done\n",
        "  return i + 1\n",
        "\n",
        "# function to perform quicksort\n",
        "def quickSort(array, low, high):\n",
        "  if low < high:\n",
        "    # find pivot element such that element smaller than pivot are on the left and element greater than pivot are on the right\n",
        "    pi = partition(array, low, high)\n",
        "    # recursive call on the left of pivot\n",
        "    quickSort(array, low, pi - 1)\n",
        "    # recursive call on the right of pivot\n",
        "    quickSort(array, pi + 1, high)\n",
        "\n",
        "data = [8, 7, 2, 1, 0, 9, 6]\n",
        "print(\"Unsorted Array: \", data)\n",
        "size = len(data)\n",
        "quickSort(data, 0, size - 1)\n",
        "print('Sorted Array: ', data)\n"
      ]
    },
    {
      "cell_type": "markdown",
      "metadata": {
        "id": "Qzd0j5lpN8--"
      },
      "source": [
        "# 4. Counting Sort"
      ]
    },
    {
      "cell_type": "markdown",
      "metadata": {
        "id": "bQFk87ntOAGm"
      },
      "source": [
        "It sorts the elements of an array by counting the number of occurences of each unique element in the array. The count is stored in an auxiliary array and the sorting is done by mapping the count as an index of the auxiliary array.\n",
        "Time complexity is O(n+k) in all three (best, worst and average) scenarios."
      ]
    },
    {
      "cell_type": "markdown",
      "metadata": {
        "id": "SE8tr5HCVsG0"
      },
      "source": [
        "# <font color = \"dark cyan\">Counting Sort\n",
        "![title](Countingsort.webp)"
      ]
    },
    {
      "cell_type": "code",
      "execution_count": 32,
      "metadata": {
        "id": "Vr2rLI0WVsG1",
        "outputId": "d1df4701-0aea-46a6-b133-9acc59625a1a",
        "colab": {
          "base_uri": "https://localhost:8080/"
        }
      },
      "outputs": [
        {
          "output_type": "stream",
          "name": "stdout",
          "text": [
            "Sorted Array in Ascending Order:  [1, 2, 2, 3, 3, 4, 8, 19]\n"
          ]
        }
      ],
      "source": [
        "#code sourced from https://www.programiz.com/dsa/counting-sort\n",
        "import sys\n",
        "def countSort(array):\n",
        "    size = len(array)\n",
        "    max = -sys.maxsize - 1\n",
        "    for i in range(0, size):\n",
        "      if array[i] > max :\n",
        "        max = array[i]\n",
        "    maxval = max + 1\n",
        "    count = [0]*maxval\n",
        "    for a in array:\n",
        "        count[a] += 1             # count occurences\n",
        "    i = 0\n",
        "    for a in range(maxval):            # emit\n",
        "        for c in range(count[a]): # - emit 'count[a]' copies of 'a'\n",
        "            array[i] = a\n",
        "            i += 1\n",
        "    \n",
        "\n",
        "data = [4, 2, 2, 8, 3, 3, 1,19]\n",
        "countSort(data)\n",
        "print(\"Sorted Array in Ascending Order: \", data)"
      ]
    },
    {
      "cell_type": "markdown",
      "metadata": {
        "id": "JKdtK5VwVsG2"
      },
      "source": [
        "# 5. Insertion Sort"
      ]
    },
    {
      "cell_type": "markdown",
      "metadata": {
        "id": "4nBPzY0gVsG2"
      },
      "source": [
        "Source : https://www.programiz.com/dsa/insertion-sort\n",
        "\n",
        "Insertion sort is a simple sorting algorithm that works similar to the way you sort playing cards in your hands. The array is virtually split into a sorted and an unsorted part. Values from the unsorted part are picked and placed at the correct position in the sorted part.\n",
        "\n",
        "**Working**\n",
        "  1. The first element in the array is assumed to be sorted. Take the second element and store it separately in key variable.\n",
        "  2. Now compare these two elements and swap them accordingly. Now take the third element. Compare it with elements on the left of it. Place it just behind the element smaller than it, else place it in the front.\n",
        "  3. Repeat this process to place every element at its correct position.\n",
        "\n",
        "**Performance**\n",
        "\n",
        "Its time complexity is O(n) for the best case whereas it is O(n*n) for worst and average case scenario. "
      ]
    },
    {
      "cell_type": "markdown",
      "metadata": {
        "id": "QBuGrkijYK0K"
      },
      "source": [
        "# <font color = \"dark cyan\">Insertion Sort"
      ]
    },
    {
      "cell_type": "markdown",
      "metadata": {
        "id": "8BWwRpL8WlhY"
      },
      "source": [
        "Source : https://media.geeksforgeeks.org/wp-content/uploads/insertionsort.png\n",
        "\n",
        "![title](insertionsort.png)"
      ]
    },
    {
      "cell_type": "code",
      "execution_count": 12,
      "metadata": {
        "colab": {
          "base_uri": "https://localhost:8080/"
        },
        "id": "zBPbH5bUWwJ_",
        "outputId": "57beedc9-bf45-4a62-8b0f-03a80504b896"
      },
      "outputs": [
        {
          "output_type": "stream",
          "name": "stdout",
          "text": [
            "Sorted Array in Ascending Order:  [1, 2, 3, 4, 5, 6, 10, 12]\n"
          ]
        }
      ],
      "source": [
        "#code sourced from https://www.programiz.com/dsa/insertion-sort\n",
        "def insertionSort(array):\n",
        "    for step in range(1, len(array)):\n",
        "        key = array[step]\n",
        "        j = step - 1\n",
        "        # Compare key with each element on the left of it until an element smaller than it is found\n",
        "        # For descending order, change key<array[j] to key>array[j].        \n",
        "        while j >= 0 and key < array[j]:\n",
        "            array[j + 1] = array[j]\n",
        "            j = j - 1\n",
        "        # Place key at after the element just smaller than it.\n",
        "        array[j + 1] = key\n",
        "\n",
        "\n",
        "data = [4, 3, 2, 10, 12, 1, 5, 6]\n",
        "insertionSort(data)\n",
        "print('Sorted Array in Ascending Order: ', data)"
      ]
    },
    {
      "cell_type": "markdown",
      "metadata": {
        "id": "pWwYEjRQYBOy"
      },
      "source": [
        "# <font color = \"dark green\">Implementation"
      ]
    },
    {
      "cell_type": "markdown",
      "metadata": {
        "id": "7LnVF1FjYk_C"
      },
      "source": [
        "So far, we have defined 5 sorting algorithms, namely:\n",
        "1. Bubble Sort\n",
        "2. Merge Sort\n",
        "3. Quick Sort\n",
        "4. Counting Sort\n",
        "5. Insertion Sort\n",
        "\n",
        "Now we will create a array of random numbers using randint function in the python library. \n",
        "(https://docs.python.org/2/library/random.html)"
      ]
    },
    {
      "cell_type": "code",
      "execution_count": 13,
      "metadata": {
        "id": "VDJ261ZZZLDO"
      },
      "outputs": [],
      "source": [
        "#code sourced from the aforementioned documentation\n",
        "# Creating an array using randint\n",
        "from random import *\n",
        "# creating a random array, function takes in n numbers\n",
        "def random_array(n):\n",
        "    # create an array variable\n",
        "    array = []\n",
        "    # if n = 5, 0,1,2,3,4\n",
        "    for i in range(0, n, 1):\n",
        "        # add to the array random integers between 0 and 100\n",
        "        array.append(randint(0,100))\n",
        "    return array\n",
        "\n",
        "# assign the random array to alist\n",
        "alist = random_array(100)\n",
        "alist1 = random_array(250)\n",
        "alist2 = random_array(500)\n",
        "alist3 = random_array(750)\n",
        "alist4 = random_array(1000)\n",
        "alist5 = random_array(1500)\n",
        "alist6 = random_array(2000)\n",
        "alist7 = random_array(3000)\n",
        "alist8 = random_array(5000)\n",
        "alist9 = random_array(6000)\n",
        "alist10 = random_array(7500)\n",
        "alist11 = random_array(8500)\n",
        "alist12 = random_array(10000)"
      ]
    },
    {
      "cell_type": "markdown",
      "metadata": {
        "id": "QQpxQlhQaC_e"
      },
      "source": [
        "# <font color = \"dark green\"> Benchmarking Multiple Statistical Runs"
      ]
    },
    {
      "cell_type": "markdown",
      "metadata": {
        "id": "bqRl17xzaSVL"
      },
      "source": [
        "1. Benchmark Bubble Sort"
      ]
    },
    {
      "cell_type": "code",
      "execution_count": 6,
      "metadata": {
        "colab": {
          "base_uri": "https://localhost:8080/"
        },
        "id": "x6my05rAay-D",
        "outputId": "37dfad3d-1425-4bdc-a62d-0f39dd06e291"
      },
      "outputs": [
        {
          "output_type": "stream",
          "name": "stdout",
          "text": [
            "[0.001, 0.008, 0.036, 0.104, 0.224, 0.499, 0.99, 2.113, 5.207, 9.667, 16.673, 25.978, 25.978]\n"
          ]
        }
      ],
      "source": [
        "import time\n",
        "global bubbleSort_avgList\n",
        "bubbleSort_avgList = [] #empty initially\n",
        "runs = 10 #number of runs\n",
        "results = []\n",
        "#first run\n",
        "for r in range(runs):\n",
        "    # start timer\n",
        "    start_time = time.time()\n",
        "    ######## bubblesort\n",
        "    bubbleSort(alist)\n",
        "    end_time = time.time()\n",
        "    time_elapsed= end_time - start_time\n",
        "    results.append(time_elapsed)\n",
        "b = sum(results)\n",
        "average = (b/runs)\n",
        "# round to 3 decimals\n",
        "average = round(average, 3)\n",
        "bubbleSort_avgList.append(average)\n",
        "\n",
        "#second run\n",
        "for r in range(runs):\n",
        "    # start timer\n",
        "    start_time = time.time()\n",
        "    ######## bubblesort\n",
        "    bubbleSort(alist1)\n",
        "    end_time = time.time()\n",
        "    time_elapsed= end_time - start_time\n",
        "    results.append(time_elapsed)\n",
        "b = sum(results)\n",
        "average = (b/runs)\n",
        "# round to 3 decimals\n",
        "average = round(average, 3)\n",
        "bubbleSort_avgList.append(average)\n",
        "\n",
        "#third run\n",
        "for r in range(runs):\n",
        "    # start timer\n",
        "    start_time = time.time()\n",
        "    ######## bubblesort\n",
        "    bubbleSort(alist2)\n",
        "    end_time = time.time()\n",
        "    time_elapsed= end_time - start_time\n",
        "    results.append(time_elapsed)\n",
        "b = sum(results)\n",
        "average = (b/runs)\n",
        "# round to 3 decimals\n",
        "average = round(average, 3)\n",
        "bubbleSort_avgList.append(average)\n",
        "\n",
        "#fourth run\n",
        "for r in range(runs):\n",
        "    # start timer\n",
        "    start_time = time.time()\n",
        "    ######## bubblesort\n",
        "    bubbleSort(alist3)\n",
        "    end_time = time.time()\n",
        "    time_elapsed= end_time - start_time\n",
        "    results.append(time_elapsed)\n",
        "b = sum(results)\n",
        "average = (b/runs)\n",
        "# round to 3 decimals\n",
        "average = round(average, 3)\n",
        "bubbleSort_avgList.append(average)\n",
        "\n",
        "#fifth run\n",
        "for r in range(runs):\n",
        "    # start timer\n",
        "    start_time = time.time()\n",
        "    ######## bubblesort\n",
        "    bubbleSort(alist4)\n",
        "    end_time = time.time()\n",
        "    time_elapsed= end_time - start_time\n",
        "    results.append(time_elapsed)\n",
        "b = sum(results)\n",
        "average = (b/runs)\n",
        "# round to 3 decimals\n",
        "average = round(average, 3)\n",
        "bubbleSort_avgList.append(average)\n",
        "\n",
        "#sixth run\n",
        "for r in range(runs):\n",
        "    # start timer\n",
        "    start_time = time.time()\n",
        "    ######## bubblesort\n",
        "    bubbleSort(alist5)\n",
        "    end_time = time.time()\n",
        "    time_elapsed= end_time - start_time\n",
        "    results.append(time_elapsed)\n",
        "b = sum(results)\n",
        "average = (b/runs)\n",
        "# round to 3 decimals\n",
        "average = round(average, 3)\n",
        "bubbleSort_avgList.append(average)\n",
        "\n",
        "#seventh run\n",
        "for r in range(runs):\n",
        "    # start timer\n",
        "    start_time = time.time()\n",
        "    ######## bubblesort\n",
        "    bubbleSort(alist6)\n",
        "    end_time = time.time()\n",
        "    time_elapsed= end_time - start_time\n",
        "    results.append(time_elapsed)\n",
        "b = sum(results)\n",
        "average = (b/runs)\n",
        "# round to 3 decimals\n",
        "average = round(average, 3)\n",
        "bubbleSort_avgList.append(average)\n",
        "\n",
        "#eight run\n",
        "for r in range(runs):\n",
        "    # start timer\n",
        "    start_time = time.time()\n",
        "    ######## bubblesort\n",
        "    bubbleSort(alist7)\n",
        "    end_time = time.time()\n",
        "    time_elapsed= end_time - start_time\n",
        "    results.append(time_elapsed)\n",
        "b = sum(results)\n",
        "average = (b/runs)\n",
        "# round to 3 decimals\n",
        "average = round(average, 3)\n",
        "bubbleSort_avgList.append(average)\n",
        "\n",
        "#ninth run\n",
        "for r in range(runs):\n",
        "    # start timer\n",
        "    start_time = time.time()\n",
        "    ######## bubblesort\n",
        "    bubbleSort(alist8)\n",
        "    end_time = time.time()\n",
        "    time_elapsed= end_time - start_time\n",
        "    results.append(time_elapsed)\n",
        "b = sum(results)\n",
        "average = (b/runs)\n",
        "# round to 3 decimals\n",
        "average = round(average, 3)\n",
        "bubbleSort_avgList.append(average)\n",
        "\n",
        "#tenth runn\n",
        "for r in range(runs):\n",
        "    # start timer\n",
        "    start_time = time.time()\n",
        "    ######## bubblesort\n",
        "    bubbleSort(alist9)\n",
        "    end_time = time.time()\n",
        "    time_elapsed= end_time - start_time\n",
        "    results.append(time_elapsed)\n",
        "b = sum(results)\n",
        "average = (b/runs)\n",
        "# round to 3 decimals\n",
        "average = round(average, 3)\n",
        "bubbleSort_avgList.append(average)\n",
        "\n",
        "#eleventh run\n",
        "for r in range(runs):\n",
        "    # start timer\n",
        "    start_time = time.time()\n",
        "    ######## bubblesort\n",
        "    bubbleSort(alist10)\n",
        "    end_time = time.time()\n",
        "    time_elapsed= end_time - start_time\n",
        "    results.append(time_elapsed)\n",
        "b = sum(results)\n",
        "average = (b/runs)\n",
        "# round to 3 decimals\n",
        "average = round(average, 3)\n",
        "bubbleSort_avgList.append(average)\n",
        "\n",
        "#twelfth run\n",
        "for r in range(runs):\n",
        "    # start timer\n",
        "    start_time = time.time()\n",
        "    ######## bubblesort\n",
        "    bubbleSort(alist11)\n",
        "    end_time = time.time()\n",
        "    time_elapsed= end_time - start_time\n",
        "    results.append(time_elapsed)\n",
        "b = sum(results)\n",
        "average = (b/runs)\n",
        "# round to 3 decimals\n",
        "average = round(average, 3)\n",
        "bubbleSort_avgList.append(average)\n",
        "\n",
        "#thirteenth run\n",
        "for r in range(runs):\n",
        "    # start timer\n",
        "    start_time = time.time()\n",
        "    ######## bubblesort\n",
        "    bubbleSort(alist12)\n",
        "    end_time = time.time()\n",
        "    time_elapsed= end_time - start_time\n",
        "    results.append(time_elapsed)\n",
        "b = sum(results)\n",
        "average = (b/runs)\n",
        "# round to 3 decimals\n",
        "average = round(average, 3)\n",
        "bubbleSort_avgList.append(average)"
      ]
    },
    {
      "cell_type": "markdown",
      "metadata": {
        "id": "cPSa4bIFaWnO"
      },
      "source": [
        "2. Benchmark Merge Sort"
      ]
    },
    {
      "cell_type": "code",
      "source": [
        "import time\n",
        "global mergeSort_avgList\n",
        "mergeSort_avgList = [] #empty initially\n",
        "runs = 10 #number of runs\n",
        "results = []\n",
        "#first run\n",
        "for r in range(runs):\n",
        "    # start timer\n",
        "    start_time = time.time()\n",
        "    ######## mergesort\n",
        "    mergeSort(alist)\n",
        "    end_time = time.time()\n",
        "    time_elapsed= end_time - start_time\n",
        "    results.append(time_elapsed)\n",
        "b = sum(results)\n",
        "average = (b/runs)\n",
        "# round to 3 decimals\n",
        "average = round(average, 3)\n",
        "mergeSort_avgList.append(average)\n",
        "\n",
        "#second run\n",
        "for r in range(runs):\n",
        "    # start timer\n",
        "    start_time = time.time()\n",
        "    ######## mergesort\n",
        "    mergeSort(alist1)\n",
        "    end_time = time.time()\n",
        "    time_elapsed= end_time - start_time\n",
        "    results.append(time_elapsed)\n",
        "b = sum(results)\n",
        "average = (b/runs)\n",
        "# round to 3 decimals\n",
        "average = round(average, 3)\n",
        "mergeSort_avgList.append(average)\n",
        "\n",
        "#third run\n",
        "for r in range(runs):\n",
        "    # start timer\n",
        "    start_time = time.time()\n",
        "    ######## mergesort\n",
        "    mergeSort(alist2)\n",
        "    end_time = time.time()\n",
        "    time_elapsed= end_time - start_time\n",
        "    results.append(time_elapsed)\n",
        "b = sum(results)\n",
        "average = (b/runs)\n",
        "# round to 3 decimals\n",
        "average = round(average, 3)\n",
        "mergeSort_avgList.append(average)\n",
        "\n",
        "#fourth run\n",
        "for r in range(runs):\n",
        "    # start timer\n",
        "    start_time = time.time()\n",
        "    ######## mergesort\n",
        "    mergeSort(alist3)\n",
        "    end_time = time.time()\n",
        "    time_elapsed= end_time - start_time\n",
        "    results.append(time_elapsed)\n",
        "b = sum(results)\n",
        "average = (b/runs)\n",
        "# round to 3 decimals\n",
        "average = round(average, 3)\n",
        "mergeSort_avgList.append(average)\n",
        "\n",
        "#fifth run\n",
        "for r in range(runs):\n",
        "    # start timer\n",
        "    start_time = time.time()\n",
        "    ######## mergesort\n",
        "    mergeSort(alist4)\n",
        "    end_time = time.time()\n",
        "    time_elapsed= end_time - start_time\n",
        "    results.append(time_elapsed)\n",
        "b = sum(results)\n",
        "average = (b/runs)\n",
        "# round to 3 decimals\n",
        "average = round(average, 3)\n",
        "mergeSort_avgList.append(average)\n",
        "\n",
        "#sixth run\n",
        "for r in range(runs):\n",
        "    # start timer\n",
        "    start_time = time.time()\n",
        "    ######## mergesort\n",
        "    mergeSort(alist5)\n",
        "    end_time = time.time()\n",
        "    time_elapsed= end_time - start_time\n",
        "    results.append(time_elapsed)\n",
        "b = sum(results)\n",
        "average = (b/runs)\n",
        "# round to 3 decimals\n",
        "average = round(average, 3)\n",
        "mergeSort_avgList.append(average)\n",
        "\n",
        "#seventh run\n",
        "for r in range(runs):\n",
        "    # start timer\n",
        "    start_time = time.time()\n",
        "    ######## mergesort\n",
        "    mergeSort(alist6)\n",
        "    end_time = time.time()\n",
        "    time_elapsed= end_time - start_time\n",
        "    results.append(time_elapsed)\n",
        "b = sum(results)\n",
        "average = (b/runs)\n",
        "# round to 3 decimals\n",
        "average = round(average, 3)\n",
        "mergeSort_avgList.append(average)\n",
        "\n",
        "#eight run\n",
        "for r in range(runs):\n",
        "    # start timer\n",
        "    start_time = time.time()\n",
        "    ######## mergesort\n",
        "    mergeSort(alist7)\n",
        "    end_time = time.time()\n",
        "    time_elapsed= end_time - start_time\n",
        "    results.append(time_elapsed)\n",
        "b = sum(results)\n",
        "average = (b/runs)\n",
        "# round to 3 decimals\n",
        "average = round(average, 3)\n",
        "mergeSort_avgList.append(average)\n",
        "\n",
        "#ninth run\n",
        "for r in range(runs):\n",
        "    # start timer\n",
        "    start_time = time.time()\n",
        "    ######## mergesort\n",
        "    mergeSort(alist8)\n",
        "    end_time = time.time()\n",
        "    time_elapsed= end_time - start_time\n",
        "    results.append(time_elapsed)\n",
        "b = sum(results)\n",
        "average = (b/runs)\n",
        "# round to 3 decimals\n",
        "average = round(average, 3)\n",
        "mergeSort_avgList.append(average)\n",
        "\n",
        "#tenth runn\n",
        "for r in range(runs):\n",
        "    # start timer\n",
        "    start_time = time.time()\n",
        "    ######## mergesort\n",
        "    mergeSort(alist9)\n",
        "    end_time = time.time()\n",
        "    time_elapsed= end_time - start_time\n",
        "    results.append(time_elapsed)\n",
        "b = sum(results)\n",
        "average = (b/runs)\n",
        "# round to 3 decimals\n",
        "average = round(average, 3)\n",
        "mergeSort_avgList.append(average)\n",
        "\n",
        "#eleventh run\n",
        "for r in range(runs):\n",
        "    # start timer\n",
        "    start_time = time.time()\n",
        "    ######## mergesort\n",
        "    mergeSort(alist10)\n",
        "    end_time = time.time()\n",
        "    time_elapsed= end_time - start_time\n",
        "    results.append(time_elapsed)\n",
        "b = sum(results)\n",
        "average = (b/runs)\n",
        "# round to 3 decimals\n",
        "average = round(average, 3)\n",
        "mergeSort_avgList.append(average)\n",
        "\n",
        "#twelfth run\n",
        "for r in range(runs):\n",
        "    # start timer\n",
        "    start_time = time.time()\n",
        "    ######## mergesort\n",
        "    mergeSort(alist11)\n",
        "    end_time = time.time()\n",
        "    time_elapsed= end_time - start_time\n",
        "    results.append(time_elapsed)\n",
        "b = sum(results)\n",
        "average = (b/runs)\n",
        "# round to 3 decimals\n",
        "average = round(average, 3)\n",
        "mergeSort_avgList.append(average)\n",
        "\n",
        "#thirteenth run\n",
        "for r in range(runs):\n",
        "    # start timer\n",
        "    start_time = time.time()\n",
        "    ######## mergesort\n",
        "    mergeSort(alist12)\n",
        "    end_time = time.time()\n",
        "    time_elapsed= end_time - start_time\n",
        "    results.append(time_elapsed)\n",
        "b = sum(results)\n",
        "average = (b/runs)\n",
        "# round to 3 decimals\n",
        "average = round(average, 3)\n",
        "mergeSort_avgList.append(average)    \n",
        "print(mergeSort_avgList)\n"
      ],
      "metadata": {
        "colab": {
          "base_uri": "https://localhost:8080/"
        },
        "id": "BZkbVZCSgkZG",
        "outputId": "ee1515e5-1fd0-443d-9f1d-c1eb3834d1df"
      },
      "execution_count": 18,
      "outputs": [
        {
          "output_type": "stream",
          "name": "stdout",
          "text": [
            "[0.0, 0.001, 0.003, 0.006, 0.01, 0.017, 0.026, 0.04, 0.066, 0.097, 0.137, 0.184, 0.237]\n"
          ]
        }
      ]
    },
    {
      "cell_type": "markdown",
      "metadata": {
        "id": "jnVfN4Kxaav-"
      },
      "source": [
        "3. Benchmark Quick Sort"
      ]
    },
    {
      "cell_type": "code",
      "source": [
        ""
      ],
      "metadata": {
        "colab": {
          "base_uri": "https://localhost:8080/",
          "height": 414
        },
        "id": "Z7LaVcTSicsq",
        "outputId": "c83c16f1-1114-44a4-923a-24cb26db2ccd"
      },
      "execution_count": 20,
      "outputs": [
        {
          "output_type": "error",
          "ename": "RecursionError",
          "evalue": "ignored",
          "traceback": [
            "\u001b[0;31m---------------------------------------------------------------------------\u001b[0m",
            "\u001b[0;31mRecursionError\u001b[0m                            Traceback (most recent call last)",
            "\u001b[0;32m<ipython-input-20-c6ed8491de7d>\u001b[0m in \u001b[0;36m<module>\u001b[0;34m()\u001b[0m\n\u001b[1;32m     69\u001b[0m     \u001b[0mstart_time\u001b[0m \u001b[0;34m=\u001b[0m \u001b[0mtime\u001b[0m\u001b[0;34m.\u001b[0m\u001b[0mtime\u001b[0m\u001b[0;34m(\u001b[0m\u001b[0;34m)\u001b[0m\u001b[0;34m\u001b[0m\u001b[0;34m\u001b[0m\u001b[0m\n\u001b[1;32m     70\u001b[0m     \u001b[0;31m######## quicksort\u001b[0m\u001b[0;34m\u001b[0m\u001b[0;34m\u001b[0m\u001b[0;34m\u001b[0m\u001b[0m\n\u001b[0;32m---> 71\u001b[0;31m     \u001b[0mquickSort\u001b[0m\u001b[0;34m(\u001b[0m\u001b[0malist4\u001b[0m\u001b[0;34m,\u001b[0m \u001b[0;36m0\u001b[0m\u001b[0;34m,\u001b[0m \u001b[0mlen\u001b[0m\u001b[0;34m(\u001b[0m\u001b[0malist4\u001b[0m\u001b[0;34m)\u001b[0m\u001b[0;34m-\u001b[0m\u001b[0;36m1\u001b[0m\u001b[0;34m)\u001b[0m\u001b[0;34m\u001b[0m\u001b[0;34m\u001b[0m\u001b[0m\n\u001b[0m\u001b[1;32m     72\u001b[0m     \u001b[0mend_time\u001b[0m \u001b[0;34m=\u001b[0m \u001b[0mtime\u001b[0m\u001b[0;34m.\u001b[0m\u001b[0mtime\u001b[0m\u001b[0;34m(\u001b[0m\u001b[0;34m)\u001b[0m\u001b[0;34m\u001b[0m\u001b[0;34m\u001b[0m\u001b[0m\n\u001b[1;32m     73\u001b[0m     \u001b[0mtime_elapsed\u001b[0m\u001b[0;34m=\u001b[0m \u001b[0mend_time\u001b[0m \u001b[0;34m-\u001b[0m \u001b[0mstart_time\u001b[0m\u001b[0;34m\u001b[0m\u001b[0;34m\u001b[0m\u001b[0m\n",
            "\u001b[0;32m<ipython-input-10-149b66e5fb1f>\u001b[0m in \u001b[0;36mquickSort\u001b[0;34m(array, low, high)\u001b[0m\n\u001b[1;32m     26\u001b[0m     \u001b[0mpi\u001b[0m \u001b[0;34m=\u001b[0m \u001b[0mpartition\u001b[0m\u001b[0;34m(\u001b[0m\u001b[0marray\u001b[0m\u001b[0;34m,\u001b[0m \u001b[0mlow\u001b[0m\u001b[0;34m,\u001b[0m \u001b[0mhigh\u001b[0m\u001b[0;34m)\u001b[0m\u001b[0;34m\u001b[0m\u001b[0;34m\u001b[0m\u001b[0m\n\u001b[1;32m     27\u001b[0m     \u001b[0;31m# recursive call on the left of pivot\u001b[0m\u001b[0;34m\u001b[0m\u001b[0;34m\u001b[0m\u001b[0;34m\u001b[0m\u001b[0m\n\u001b[0;32m---> 28\u001b[0;31m     \u001b[0mquickSort\u001b[0m\u001b[0;34m(\u001b[0m\u001b[0marray\u001b[0m\u001b[0;34m,\u001b[0m \u001b[0mlow\u001b[0m\u001b[0;34m,\u001b[0m \u001b[0mpi\u001b[0m \u001b[0;34m-\u001b[0m \u001b[0;36m1\u001b[0m\u001b[0;34m)\u001b[0m\u001b[0;34m\u001b[0m\u001b[0;34m\u001b[0m\u001b[0m\n\u001b[0m\u001b[1;32m     29\u001b[0m     \u001b[0;31m# recursive call on the right of pivot\u001b[0m\u001b[0;34m\u001b[0m\u001b[0;34m\u001b[0m\u001b[0;34m\u001b[0m\u001b[0m\n\u001b[1;32m     30\u001b[0m     \u001b[0mquickSort\u001b[0m\u001b[0;34m(\u001b[0m\u001b[0marray\u001b[0m\u001b[0;34m,\u001b[0m \u001b[0mpi\u001b[0m \u001b[0;34m+\u001b[0m \u001b[0;36m1\u001b[0m\u001b[0;34m,\u001b[0m \u001b[0mhigh\u001b[0m\u001b[0;34m)\u001b[0m\u001b[0;34m\u001b[0m\u001b[0;34m\u001b[0m\u001b[0m\n",
            "... last 1 frames repeated, from the frame below ...\n",
            "\u001b[0;32m<ipython-input-10-149b66e5fb1f>\u001b[0m in \u001b[0;36mquickSort\u001b[0;34m(array, low, high)\u001b[0m\n\u001b[1;32m     26\u001b[0m     \u001b[0mpi\u001b[0m \u001b[0;34m=\u001b[0m \u001b[0mpartition\u001b[0m\u001b[0;34m(\u001b[0m\u001b[0marray\u001b[0m\u001b[0;34m,\u001b[0m \u001b[0mlow\u001b[0m\u001b[0;34m,\u001b[0m \u001b[0mhigh\u001b[0m\u001b[0;34m)\u001b[0m\u001b[0;34m\u001b[0m\u001b[0;34m\u001b[0m\u001b[0m\n\u001b[1;32m     27\u001b[0m     \u001b[0;31m# recursive call on the left of pivot\u001b[0m\u001b[0;34m\u001b[0m\u001b[0;34m\u001b[0m\u001b[0;34m\u001b[0m\u001b[0m\n\u001b[0;32m---> 28\u001b[0;31m     \u001b[0mquickSort\u001b[0m\u001b[0;34m(\u001b[0m\u001b[0marray\u001b[0m\u001b[0;34m,\u001b[0m \u001b[0mlow\u001b[0m\u001b[0;34m,\u001b[0m \u001b[0mpi\u001b[0m \u001b[0;34m-\u001b[0m \u001b[0;36m1\u001b[0m\u001b[0;34m)\u001b[0m\u001b[0;34m\u001b[0m\u001b[0;34m\u001b[0m\u001b[0m\n\u001b[0m\u001b[1;32m     29\u001b[0m     \u001b[0;31m# recursive call on the right of pivot\u001b[0m\u001b[0;34m\u001b[0m\u001b[0;34m\u001b[0m\u001b[0;34m\u001b[0m\u001b[0m\n\u001b[1;32m     30\u001b[0m     \u001b[0mquickSort\u001b[0m\u001b[0;34m(\u001b[0m\u001b[0marray\u001b[0m\u001b[0;34m,\u001b[0m \u001b[0mpi\u001b[0m \u001b[0;34m+\u001b[0m \u001b[0;36m1\u001b[0m\u001b[0;34m,\u001b[0m \u001b[0mhigh\u001b[0m\u001b[0;34m)\u001b[0m\u001b[0;34m\u001b[0m\u001b[0;34m\u001b[0m\u001b[0m\n",
            "\u001b[0;31mRecursionError\u001b[0m: maximum recursion depth exceeded in comparison"
          ]
        }
      ]
    },
    {
      "cell_type": "markdown",
      "metadata": {
        "id": "6dgWRWxDadWW"
      },
      "source": [
        "4. Benchmark Counting Sort"
      ]
    },
    {
      "cell_type": "code",
      "source": [
        "from collections import Counter\n",
        "import time\n",
        "global countSort_avgList\n",
        "countSort_avgList = [] #empty initially\n",
        "runs = 10 #number of runs\n",
        "results = []\n",
        "#first run\n",
        "for r in range(runs):\n",
        "    # start timer\n",
        "    start_time = time.time()\n",
        "    ######## countsort\n",
        "    countSort(alist)\n",
        "    end_time = time.time()\n",
        "    time_elapsed= end_time - start_time\n",
        "    results.append(time_elapsed)\n",
        "b = sum(results)\n",
        "average = (b/runs)\n",
        "# round to 3 decimals\n",
        "average = round(average, 3)\n",
        "countSort_avgList.append(average)\n",
        "\n",
        "#second run\n",
        "for r in range(runs):\n",
        "    # start timer\n",
        "    start_time = time.time()\n",
        "    ######## countsort\n",
        "    countSort(alist1)\n",
        "    end_time = time.time()\n",
        "    time_elapsed= end_time - start_time\n",
        "    results.append(time_elapsed)\n",
        "b = sum(results)\n",
        "average = (b/runs)\n",
        "# round to 3 decimals\n",
        "average = round(average, 3)\n",
        "countSort_avgList.append(average)\n",
        "\n",
        "#third run\n",
        "for r in range(runs):\n",
        "    # start timer\n",
        "    start_time = time.time()\n",
        "    ######## countsort\n",
        "    countSort(alist2)\n",
        "    end_time = time.time()\n",
        "    time_elapsed= end_time - start_time\n",
        "    results.append(time_elapsed)\n",
        "b = sum(results)\n",
        "average = (b/runs)\n",
        "# round to 3 decimals\n",
        "average = round(average, 3)\n",
        "countSort_avgList.append(average)\n",
        "\n",
        "#fourth run\n",
        "for r in range(runs):\n",
        "    # start timer\n",
        "    start_time = time.time()\n",
        "    ######## countsort\n",
        "    countSort(alist3)\n",
        "    end_time = time.time()\n",
        "    time_elapsed= end_time - start_time\n",
        "    results.append(time_elapsed)\n",
        "b = sum(results)\n",
        "average = (b/runs)\n",
        "# round to 3 decimals\n",
        "average = round(average, 3)\n",
        "countSort_avgList.append(average)\n",
        "\n",
        "#fifth run\n",
        "for r in range(runs):\n",
        "    # start timer\n",
        "    start_time = time.time()\n",
        "    ######## countsort\n",
        "    countSort(alist4)\n",
        "    end_time = time.time()\n",
        "    time_elapsed= end_time - start_time\n",
        "    results.append(time_elapsed)\n",
        "b = sum(results)\n",
        "average = (b/runs)\n",
        "# round to 3 decimals\n",
        "average = round(average, 3)\n",
        "countSort_avgList.append(average)\n",
        "\n",
        "#sixth run\n",
        "for r in range(runs):\n",
        "    # start timer\n",
        "    start_time = time.time()\n",
        "    ######## countsort\n",
        "    countSort(alist5)\n",
        "    end_time = time.time()\n",
        "    time_elapsed= end_time - start_time\n",
        "    results.append(time_elapsed)\n",
        "b = sum(results)\n",
        "average = (b/runs)\n",
        "# round to 3 decimals\n",
        "average = round(average, 3)\n",
        "countSort_avgList.append(average)\n",
        "\n",
        "#seventh run\n",
        "for r in range(runs):\n",
        "    # start timer\n",
        "    start_time = time.time()\n",
        "    ######## countsort\n",
        "    countSort(alist6)\n",
        "    end_time = time.time()\n",
        "    time_elapsed= end_time - start_time\n",
        "    results.append(time_elapsed)\n",
        "b = sum(results)\n",
        "average = (b/runs)\n",
        "# round to 3 decimals\n",
        "average = round(average, 3)\n",
        "countSort_avgList.append(average)\n",
        "\n",
        "#eight run\n",
        "for r in range(runs):\n",
        "    # start timer\n",
        "    start_time = time.time()\n",
        "    ######## countsort\n",
        "    countSort(alist7)\n",
        "    end_time = time.time()\n",
        "    time_elapsed= end_time - start_time\n",
        "    results.append(time_elapsed)\n",
        "b = sum(results)\n",
        "average = (b/runs)\n",
        "# round to 3 decimals\n",
        "average = round(average, 3)\n",
        "countSort_avgList.append(average)\n",
        "\n",
        "#ninth run\n",
        "for r in range(runs):\n",
        "    # start timer\n",
        "    start_time = time.time()\n",
        "    ######## countsort\n",
        "    countSort(alist8)\n",
        "    end_time = time.time()\n",
        "    time_elapsed= end_time - start_time\n",
        "    results.append(time_elapsed)\n",
        "b = sum(results)\n",
        "average = (b/runs)\n",
        "# round to 3 decimals\n",
        "average = round(average, 3)\n",
        "countSort_avgList.append(average)\n",
        "\n",
        "#tenth runn\n",
        "for r in range(runs):\n",
        "    # start timer\n",
        "    start_time = time.time()\n",
        "    ######## countsort\n",
        "    countSort(alist9)\n",
        "    end_time = time.time()\n",
        "    time_elapsed= end_time - start_time\n",
        "    results.append(time_elapsed)\n",
        "b = sum(results)\n",
        "average = (b/runs)\n",
        "# round to 3 decimals\n",
        "average = round(average, 3)\n",
        "countSort_avgList.append(average)\n",
        "\n",
        "#eleventh run\n",
        "for r in range(runs):\n",
        "    # start timer\n",
        "    start_time = time.time()\n",
        "    ######## countsort\n",
        "    countSort(alist10)\n",
        "    end_time = time.time()\n",
        "    time_elapsed= end_time - start_time\n",
        "    results.append(time_elapsed)\n",
        "b = sum(results)\n",
        "average = (b/runs)\n",
        "# round to 3 decimals\n",
        "average = round(average, 3)\n",
        "countSort_avgList.append(average)\n",
        "\n",
        "#twelfth run\n",
        "for r in range(runs):\n",
        "    # start timer\n",
        "    start_time = time.time()\n",
        "    ######## countsort\n",
        "    countSort(alist11)\n",
        "    end_time = time.time()\n",
        "    time_elapsed= end_time - start_time\n",
        "    results.append(time_elapsed)\n",
        "b = sum(results)\n",
        "average = (b/runs)\n",
        "# round to 3 decimals\n",
        "average = round(average, 3)\n",
        "countSort_avgList.append(average)\n",
        "\n",
        "#thirteenth run\n",
        "for r in range(runs):\n",
        "    # start timer\n",
        "    start_time = time.time()\n",
        "    ######## countsort\n",
        "    countSort(alist12)\n",
        "    end_time = time.time()\n",
        "    time_elapsed= end_time - start_time\n",
        "    results.append(time_elapsed)\n",
        "b = sum(results)\n",
        "average = (b/runs)\n",
        "# round to 3 decimals\n",
        "average = round(average, 3)\n",
        "countSort_avgList.append(average)\n",
        "print(countSort_avgList)"
      ],
      "metadata": {
        "colab": {
          "base_uri": "https://localhost:8080/"
        },
        "id": "5f8i9mZejGFi",
        "outputId": "8d3859ca-c707-4e50-c130-fc219549a20c"
      },
      "execution_count": 34,
      "outputs": [
        {
          "output_type": "stream",
          "name": "stdout",
          "text": [
            "[0.0, 0.0, 0.0, 0.001, 0.001, 0.002, 0.003, 0.005, 0.007, 0.01, 0.015, 0.019, 0.024]\n"
          ]
        }
      ]
    },
    {
      "cell_type": "markdown",
      "metadata": {
        "id": "DLE7Ta3_afml"
      },
      "source": [
        "5. Benchmark Insertion Sort"
      ]
    }
  ],
  "metadata": {
    "colab": {
      "collapsed_sections": [],
      "name": "SORTING_ALGORITHMS_PROJECT.ipynb",
      "provenance": [],
      "toc_visible": true
    },
    "kernelspec": {
      "display_name": "Python 3",
      "name": "python3"
    },
    "language_info": {
      "codemirror_mode": {
        "name": "ipython",
        "version": 3
      },
      "file_extension": ".py",
      "mimetype": "text/x-python",
      "name": "python",
      "nbconvert_exporter": "python",
      "pygments_lexer": "ipython3",
      "version": "3.10.0"
    }
  },
  "nbformat": 4,
  "nbformat_minor": 0
}