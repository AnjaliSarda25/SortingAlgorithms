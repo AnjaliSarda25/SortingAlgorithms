{
  "cells": [
    {
      "cell_type": "markdown",
      "metadata": {
        "id": "PMUUPyrHVM8n"
      },
      "source": [
        "# Sorting Algorithms"
      ]
    },
    {
      "cell_type": "markdown",
      "metadata": {
        "id": "R6M4zajMVULi"
      },
      "source": [
        "# 1. Bubble Sort (basic comparison-based sort)"
      ]
    },
    {
      "cell_type": "markdown",
      "metadata": {
        "id": "FOpqRLYZVY1z"
      },
      "source": [
        "Source : https://www.geeksforgeeks.org/bubble-sort/\n",
        "\n",
        "Bubble Sort is the simplest sorting algorithm that works by repeatedly swapping the adjacent elements if they are in wrong order. \n",
        "\n",
        "**Working**\n",
        "\n",
        "  1. It starts at the beginning of the dataset and compares the first two elements, and if the first element is greater than the second, then it will swap them.\n",
        "  2. It will continue to repeat this process until no more swaps are required.\n",
        "\n",
        "**Performance**\n",
        "\n",
        "Bubble sort has a worst and average case time complexity of O(n*n), n being the number of elements to be sorted. The worst case cocurs when the dataset is sorted in reverse order.\n",
        "When the dataset is already sorted (best-case), the time complexity is only O(n). It is not practical and is very inefficient and hence is rarely used in real world scenarios."
      ]
    },
    {
      "cell_type": "markdown",
      "metadata": {
        "id": "8wanBZQQXvPS"
      },
      "source": [
        "# <font color = \"dark cyan\">Bubble Sort\n",
        "Source : https://www.w3resource.com/php-exercises/searching-and-sorting-algorithm/searching-and-sorting-algorithm-exercise-6.php"
      ]
    },
    {
      "cell_type": "markdown",
      "metadata": {
        "id": "JcEaxW4wYOfO"
      },
      "source": [
        "![title](bubble-sort.png)"
      ]
    },
    {
      "cell_type": "code",
      "execution_count": null,
      "metadata": {
        "colab": {
          "base_uri": "https://localhost:8080/"
        },
        "id": "Xjc9RZPZYmm6",
        "outputId": "b9ef8430-dab8-4011-b6ed-634c00403292"
      },
      "outputs": [
        {
          "name": "stdout",
          "output_type": "stream",
          "text": [
            "The unsorted list is:  [5, 1, 4, 2, 8]\n",
            "The sorted list is  :  [1, 2, 4, 5, 8]\n"
          ]
        }
      ],
      "source": [
        "#code sourced from https://www.javatpoint.com/bubble-sort-in-python\n",
        "# Creating a bubble sort function  \n",
        "def bubbleSort(list1):  \n",
        "    # Outer loop to traverse the entire list  \n",
        "    for i in range(0,len(list1)-1):  \n",
        "        for j in range(len(list1)-1):  \n",
        "            if(list1[j]>list1[j+1]):  \n",
        "                temp = list1[j]  \n",
        "                list1[j] = list1[j+1]  \n",
        "                list1[j+1] = temp  \n",
        "  \n",
        "list1 = [5, 1, 4, 2, 8]  \n",
        "print(\"The unsorted list is: \", list1)  \n",
        "# Calling the bubble sort function\n",
        "bubbleSort(list1)\n",
        "print(\"The sorted list is  : \", list1)  "
      ]
    },
    {
      "cell_type": "markdown",
      "metadata": {
        "id": "UQOdevcOZ3Rc"
      },
      "source": [
        "# 2. Merge Sort (efficient comparison-based sort)"
      ]
    },
    {
      "cell_type": "markdown",
      "metadata": {
        "id": "bTnvXfG_aBDL"
      },
      "source": [
        "Source : https://www.geeksforgeeks.org/merge-sort/\n",
        "\n",
        "Merge sort is a recursive divide and conquer algorithm. It recursively divides the input array into two halves, calls itself for the two halves, and then merges the two sorted halves. \n",
        "\n",
        "**Working**\n",
        "  1. It starts by breaking down the array into subarrays until each of these subarrays contains only one element.\n",
        "  2. Repeatedly merges the subarrays to create new sorted subarrays until finally there is only one subarray left, i.e. the sorted array.\n",
        "\n",
        "  **Performance**\n"
      ]
    },
    {
      "cell_type": "markdown",
      "metadata": {
        "id": "sRj5vAzfhkGI"
      },
      "source": [
        "Time-complexity of Merge Sort in best, worst and average case is O(nlogn), n being the number of elements to be sorted in the dataset. As its time complexity is similar in all 3 cases, that makes it a good choice for predictable running behaviour."
      ]
    },
    {
      "cell_type": "markdown",
      "metadata": {
        "id": "cWfFecDriJcO"
      },
      "source": [
        "# <font color = \"dark cyan\">Merge Sort\n",
        "Source : https://www.w3resource.com/python-exercises/data-structures-and-algorithms/python-search-and-sorting-exercise-8.php"
      ]
    },
    {
      "cell_type": "markdown",
      "metadata": {
        "id": "V788lMYriaR2"
      },
      "source": [
        "![title](merge_sort.png)"
      ]
    },
    {
      "cell_type": "code",
      "execution_count": null,
      "metadata": {
        "colab": {
          "base_uri": "https://localhost:8080/"
        },
        "id": "PqQANwmAigyv",
        "outputId": "a7def40c-57c6-48fa-eb0d-75313f82ffe8"
      },
      "outputs": [
        {
          "name": "stdout",
          "output_type": "stream",
          "text": [
            "Given array is  [12, 11, 25, 5, 62, 7]\n",
            "Sorted array is [5, 7, 11, 12, 25, 62]\n"
          ]
        }
      ],
      "source": [
        "#Code sourced from https://www.geeksforgeeks.org/python-program-for-merge-sort/\n",
        "def merge(arr, l, m, r):\n",
        "    n1 = m - l + 1\n",
        "    n2 = r - m\n",
        "    # l is for left index and r is right index of the sub-array of arr to be sorted\n",
        "    # create temp arrays\n",
        "    L = [0] * (n1)\n",
        "    R = [0] * (n2)\n",
        "    # Copy data to temp arrays L[] and R[]\n",
        "    for i in range(0, n1):\n",
        "        L[i] = arr[l + i]\n",
        "    for j in range(0, n2):\n",
        "        R[j] = arr[m + 1 + j]\n",
        " \n",
        "    # Merge the temp arrays back into arr[l..r]\n",
        "    i = 0     # Initial index of first subarray\n",
        "    j = 0     # Initial index of second subarray\n",
        "    k = l     # Initial index of merged subarray\n",
        " \n",
        "    while i < n1 and j < n2:\n",
        "        if L[i] <= R[j]:\n",
        "            arr[k] = L[i]\n",
        "            i += 1\n",
        "        else:\n",
        "            arr[k] = R[j]\n",
        "            j += 1\n",
        "        k += 1\n",
        "\n",
        "    # Copy the remaining elements of L[], if there are any\n",
        "    while i < n1:\n",
        "        arr[k] = L[i]\n",
        "        i += 1\n",
        "        k += 1\n",
        " \n",
        "    # Copy the remaining elements of R[], if there are any\n",
        "    while j < n2:\n",
        "        arr[k] = R[j]\n",
        "        j += 1\n",
        "        k += 1\n",
        " \n",
        "def mergeSort(arr, l, r):\n",
        "    if l < r:\n",
        "        # Same as (l+r)//2, but avoids overflow for large l and h\n",
        "        m = l+(r-l)//2\n",
        "        # Sort first and second halves\n",
        "        mergeSort(arr, l, m)\n",
        "        mergeSort(arr, m+1, r)\n",
        "        merge(arr, l, m, r)\n",
        " \n",
        "arr = [12, 11, 25, 5, 62, 7]\n",
        "n = len(arr)\n",
        "print(\"Given array is \", arr)\n",
        "#calling the merge sort function\n",
        "mergeSort(arr, 0, n-1)\n",
        "print(\"Sorted array is\", arr)"
      ]
    },
    {
      "cell_type": "markdown",
      "metadata": {
        "id": "ripEm7YllKuX"
      },
      "source": [
        "# 3. Quick Sort"
      ]
    },
    {
      "cell_type": "markdown",
      "metadata": {
        "id": "rg7oVc_olUiu"
      },
      "source": [
        "Source : https://www.geeksforgeeks.org/quick-sort/\n",
        "\n",
        "It is a recursive divide and conquer algorithm which is used very commonly for sorting because of its efficiency. \n",
        "\n",
        "**Working**\n",
        "  1. Pivot selection : Different ways to pick an element from the array called \"pivot\".\n",
        "  2. Partitioning : Given an array and an element x of array as pivot, put x at its correct position in sorted array and put all smaller elements (smaller than x) before x, and put all greater elements (greater than x) after x. \n",
        "  3. Recursion : Recursively apply both the above steps to both the subarrays.\n",
        "\n",
        "**Performance**\n",
        "Time complexity of Quick sort in best case scenario is O(nlogn), in worst case is O(n*n) and average case is O(nlogn). "
      ]
    },
    {
      "cell_type": "markdown",
      "metadata": {
        "id": "BJy3GdTsoSQj"
      },
      "source": [
        "![title](quicksort.png)"
      ]
    },
    {
      "cell_type": "code",
      "execution_count": null,
      "metadata": {
        "colab": {
          "base_uri": "https://localhost:8080/"
        },
        "id": "Xo9tWm3Bn-LU",
        "outputId": "2399f8de-67f6-4507-bad0-718f9eda90a7"
      },
      "outputs": [
        {
          "name": "stdout",
          "output_type": "stream",
          "text": [
            "Unsorted Array:  [8, 7, 2, 1, 0, 9, 6]\n",
            "Sorted Array:  [0, 1, 2, 6, 7, 8, 9]\n"
          ]
        }
      ],
      "source": [
        "#Code sourced from https://www.programiz.com/dsa/quick-sort\n",
        "#function to find partition\n",
        "def partition(array, low, high):\n",
        "  # choose the rightmost element as pivot\n",
        "  pivot = array[high]\n",
        "  # pointer for greater element\n",
        "  i = low - 1\n",
        "\n",
        "  # traverse through all elements and compare each element with pivot\n",
        "  for j in range(low, high):\n",
        "    if array[j] <= pivot:\n",
        "      # if element smaller than pivot is found swap it with the greater element pointed by i\n",
        "      i = i + 1\n",
        "      # swapping element at i with element at j\n",
        "      (array[i], array[j]) = (array[j], array[i])\n",
        "\n",
        "  # swap the pivot element with the greater element specified by i\n",
        "  (array[i + 1], array[high]) = (array[high], array[i + 1])\n",
        "  # return the position from where partition is done\n",
        "  return i + 1\n",
        "\n",
        "# function to perform quicksort\n",
        "def quickSort(array, low, high):\n",
        "  if low < high:\n",
        "    # find pivot element such that element smaller than pivot are on the left and element greater than pivot are on the right\n",
        "    pi = partition(array, low, high)\n",
        "    # recursive call on the left of pivot\n",
        "    quickSort(array, low, pi - 1)\n",
        "    # recursive call on the right of pivot\n",
        "    quickSort(array, pi + 1, high)\n",
        "\n",
        "data = [8, 7, 2, 1, 0, 9, 6]\n",
        "print(\"Unsorted Array: \", data)\n",
        "size = len(data)\n",
        "quickSort(data, 0, size - 1)\n",
        "print('Sorted Array: ', data)\n"
      ]
    },
    {
      "cell_type": "markdown",
      "metadata": {
        "id": "Qzd0j5lpN8--"
      },
      "source": [
        "# 4. Counting Sort"
      ]
    },
    {
      "cell_type": "markdown",
      "metadata": {
        "id": "bQFk87ntOAGm"
      },
      "source": [
        "It sorts the elements of an array by counting the number of occurences of each unique element in the array. The count is stored in an auxiliary array and the sorting is done by mapping the count as an index of the auxiliary array.\n",
        "Time complexity is O(n+k) in all three (best, worst and average) scenarios."
      ]
    },
    {
      "cell_type": "markdown",
      "metadata": {
        "id": "SE8tr5HCVsG0"
      },
      "source": [
        "# <font color = \"dark cyan\">Counting Sort\n",
        "![title](Countingsort.webp)"
      ]
    },
    {
      "cell_type": "code",
      "execution_count": null,
      "metadata": {
        "id": "Vr2rLI0WVsG1",
        "outputId": "73b60915-d0f3-46ab-ad43-ac7424e09736"
      },
      "outputs": [
        {
          "name": "stdout",
          "output_type": "stream",
          "text": [
            "Sorted Array in Ascending Order: \n",
            "[1, 2, 2, 3, 3, 4, 8]\n"
          ]
        }
      ],
      "source": [
        "#code sourced from https://www.programiz.com/dsa/counting-sort\n",
        "def countingSort(array):\n",
        "    size = len(array)\n",
        "    output = [0] * size\n",
        "    # Initialize count array\n",
        "    count = [0] * 10\n",
        "    # Store the count of each elements in count array\n",
        "    for i in range(0, size):\n",
        "        count[array[i]] += 1\n",
        "    # Store the cummulative count\n",
        "    for i in range(1, 10):\n",
        "        count[i] += count[i - 1]\n",
        "    # Find the index of each element of the original array in count array\n",
        "    # place the elements in output array\n",
        "    i = size - 1\n",
        "    while i >= 0:\n",
        "        output[count[array[i]] - 1] = array[i]\n",
        "        count[array[i]] -= 1\n",
        "        i -= 1\n",
        "    # Copy the sorted elements into original array\n",
        "    for i in range(0, size):\n",
        "        array[i] = output[i]\n",
        "\n",
        "data = [4, 2, 2, 8, 3, 3, 1]\n",
        "countingSort(data)\n",
        "print(\"Sorted Array in Ascending Order: \")\n",
        "print(data)"
      ]
    },
    {
      "cell_type": "markdown",
      "metadata": {
        "id": "JKdtK5VwVsG2"
      },
      "source": [
        "# 5. Insertion Sort"
      ]
    },
    {
      "cell_type": "markdown",
      "metadata": {
        "id": "4nBPzY0gVsG2"
      },
      "source": [
        "Source : https://www.programiz.com/dsa/insertion-sort\n",
        "\n",
        "Insertion sort is a simple sorting algorithm that works similar to the way you sort playing cards in your hands. The array is virtually split into a sorted and an unsorted part. Values from the unsorted part are picked and placed at the correct position in the sorted part.\n",
        "\n",
        "**Working**\n",
        "  1. The first element in the array is assumed to be sorted. Take the second element and store it separately in key variable.\n",
        "  2. Now compare these two elements and swap them accordingly. Now take the third element. Compare it with elements on the left of it. Place it just behind the element smaller than it, else place it in the front.\n",
        "  3. Repeat this process to place every element at its correct position.\n",
        "\n",
        "**Performance**\n",
        "\n",
        "Its time complexity is O(n) for the best case whereas it is O(n*n) for worst and average case scenario. "
      ]
    },
    {
      "cell_type": "markdown",
      "source": [
        "# <font color = \"dark cyan\">Insertion Sort"
      ],
      "metadata": {
        "id": "QBuGrkijYK0K"
      }
    },
    {
      "cell_type": "markdown",
      "source": [
        "Source : https://media.geeksforgeeks.org/wp-content/uploads/insertionsort.png\n",
        "\n",
        "![title](insertionsort.png)"
      ],
      "metadata": {
        "id": "8BWwRpL8WlhY"
      }
    },
    {
      "cell_type": "code",
      "source": [
        "#code sourced from https://www.programiz.com/dsa/insertion-sort\n",
        "def insertionSort(array):\n",
        "    for step in range(1, len(array)):\n",
        "        key = array[step]\n",
        "        j = step - 1\n",
        "        # Compare key with each element on the left of it until an element smaller than it is found\n",
        "        # For descending order, change key<array[j] to key>array[j].        \n",
        "        while j >= 0 and key < array[j]:\n",
        "            array[j + 1] = array[j]\n",
        "            j = j - 1\n",
        "        # Place key at after the element just smaller than it.\n",
        "        array[j + 1] = key\n",
        "\n",
        "\n",
        "data = [4, 3, 2, 10, 12, 1, 5, 6]\n",
        "insertionSort(data)\n",
        "print('Sorted Array in Ascending Order: ', data)"
      ],
      "metadata": {
        "colab": {
          "base_uri": "https://localhost:8080/"
        },
        "id": "zBPbH5bUWwJ_",
        "outputId": "811358b2-c049-467e-dae6-e8591480831f"
      },
      "execution_count": 2,
      "outputs": [
        {
          "output_type": "stream",
          "name": "stdout",
          "text": [
            "Sorted Array in Ascending Order:  [1, 2, 3, 4, 5, 6, 10, 12]\n"
          ]
        }
      ]
    },
    {
      "cell_type": "markdown",
      "source": [
        "# <font color = \"dark green\">Implementation"
      ],
      "metadata": {
        "id": "pWwYEjRQYBOy"
      }
    },
    {
      "cell_type": "markdown",
      "source": [
        "So far, we have defined 5 sorting algorithms, namely:\n",
        "1. Bubble Sort\n",
        "2. Merge Sort\n",
        "3. Quick Sort\n",
        "4. Counting Sort\n",
        "5. Insertion Sort\n",
        "\n",
        "Now we will create a array of random numbers using randint function in the python library. \n",
        "(https://docs.python.org/2/library/random.html)"
      ],
      "metadata": {
        "id": "7LnVF1FjYk_C"
      }
    },
    {
      "cell_type": "code",
      "source": [
        "#code sourced from the aforementioned documentation\n",
        "# Creating an array using randint\n",
        "from random import *\n",
        "# creating a random array, function takes in n numbers\n",
        "def random_array(n):\n",
        "    # create an array variable\n",
        "    array = []\n",
        "    # if n = 5, 0,1,2,3,4\n",
        "    for i in range(0, n, 1):\n",
        "        # add to the array random integers between 0 and 100\n",
        "        array.append(randint(0,100))\n",
        "    return array\n",
        "\n",
        "# assign the random array to alist\n",
        "alist = random_array(100)\n",
        "alist1 = random_array(250)\n",
        "alist2 = random_array(500)\n",
        "alist3 = random_array(750)\n",
        "alist4 = random_array(1000)\n",
        "alist5 = random_array(1500)\n",
        "alist6 = random_array(2000)\n",
        "alist7 = random_array(3000)\n",
        "alist8 = random_array(5000)\n",
        "alist9 = random_array(6000)\n",
        "alist10 = random_array(7500)\n",
        "alist11 = random_array(8500)\n",
        "alist12 = random_array(10000)"
      ],
      "metadata": {
        "id": "VDJ261ZZZLDO"
      },
      "execution_count": 3,
      "outputs": []
    }
  ],
  "metadata": {
    "colab": {
      "collapsed_sections": [],
      "name": "SORTING_ALGORITHMS_PROJECT.ipynb",
      "provenance": []
    },
    "kernelspec": {
      "display_name": "Python 3",
      "name": "python3"
    },
    "language_info": {
      "codemirror_mode": {
        "name": "ipython",
        "version": 3
      },
      "file_extension": ".py",
      "mimetype": "text/x-python",
      "name": "python",
      "nbconvert_exporter": "python",
      "pygments_lexer": "ipython3",
      "version": "3.10.0"
    }
  },
  "nbformat": 4,
  "nbformat_minor": 0
}